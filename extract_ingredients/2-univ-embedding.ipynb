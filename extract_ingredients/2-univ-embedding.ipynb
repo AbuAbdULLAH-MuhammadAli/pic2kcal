{
 "cells": [
  {
   "cell_type": "code",
   "execution_count": 1,
   "metadata": {},
   "outputs": [],
   "source": [
    "# run in docker:\n",
    "# sudo docker run -p 8890:8888 -v /home/checkout/dir/pic2kcal:/tf/notebooks --runtime=nvidia -it --rm tensorflow/tensorflow:1.12.0-gpu-py3 jupyter notebook --allow-root --notebook-dir=/tf/notebooks\n",
    "# crashes in TF1.4!\n",
    "# does not work with Arch Linux TF installation!"
   ]
  },
  {
   "cell_type": "code",
   "execution_count": 2,
   "metadata": {},
   "outputs": [
    {
     "name": "stdout",
     "output_type": "stream",
     "text": [
      "/tf/notebooks\n"
     ]
    }
   ],
   "source": [
    "%cd .."
   ]
  },
  {
   "cell_type": "code",
   "execution_count": 3,
   "metadata": {},
   "outputs": [
    {
     "name": "stdout",
     "output_type": "stream",
     "text": [
      "Requirement already satisfied: tensorflow-hub in /usr/local/lib/python3.5/dist-packages (0.7.0)\n",
      "Requirement already satisfied: numpy>=1.12.0 in /usr/local/lib/python3.5/dist-packages (from tensorflow-hub) (1.15.4)\n",
      "Requirement already satisfied: protobuf>=3.4.0 in /usr/local/lib/python3.5/dist-packages (from tensorflow-hub) (3.6.1)\n",
      "Requirement already satisfied: six>=1.10.0 in /usr/local/lib/python3.5/dist-packages (from tensorflow-hub) (1.11.0)\n",
      "Requirement already satisfied: setuptools in /usr/local/lib/python3.5/dist-packages (from protobuf>=3.4.0->tensorflow-hub) (40.5.0)\n",
      "\u001b[33mYou are using pip version 18.1, however version 20.0.2 is available.\n",
      "You should consider upgrading via the 'pip install --upgrade pip' command.\u001b[0m\n",
      "Requirement already satisfied: sentencepiece in /usr/local/lib/python3.5/dist-packages (0.1.85)\n",
      "\u001b[33mYou are using pip version 18.1, however version 20.0.2 is available.\n",
      "You should consider upgrading via the 'pip install --upgrade pip' command.\u001b[0m\n",
      "Requirement already satisfied: tf-sentencepiece==0.1.82.1 in /usr/local/lib/python3.5/dist-packages (0.1.82.1)\n",
      "\u001b[33mYou are using pip version 18.1, however version 20.0.2 is available.\n",
      "You should consider upgrading via the 'pip install --upgrade pip' command.\u001b[0m\n",
      "Requirement already satisfied: tqdm in /usr/local/lib/python3.5/dist-packages (4.43.0)\n",
      "\u001b[33mYou are using pip version 18.1, however version 20.0.2 is available.\n",
      "You should consider upgrading via the 'pip install --upgrade pip' command.\u001b[0m\n"
     ]
    }
   ],
   "source": [
    "!pip install tensorflow-hub\n",
    "!pip install sentencepiece\n",
    "!pip install tf-sentencepiece==0.1.82.1\n",
    "!pip install tqdm"
   ]
  },
  {
   "cell_type": "code",
   "execution_count": 4,
   "metadata": {},
   "outputs": [
    {
     "name": "stdout",
     "output_type": "stream",
     "text": [
      "Reading package lists... Done\n",
      "Building dependency tree       \n",
      "Reading state information... Done\n",
      "jq is already the newest version (1.5+dfsg-1ubuntu0.1).\n",
      "0 upgraded, 0 newly installed, 0 to remove and 9 not upgraded.\n"
     ]
    }
   ],
   "source": [
    "!apt install -y jq"
   ]
  },
  {
   "cell_type": "code",
   "execution_count": 5,
   "metadata": {},
   "outputs": [
    {
     "name": "stdout",
     "output_type": "stream",
     "text": [
      "INFO:tensorflow:Saver not created because there are no variables in the graph to restore\n"
     ]
    },
    {
     "name": "stderr",
     "output_type": "stream",
     "text": [
      "WARNING: Logging before flag parsing goes to stderr.\n",
      "I0229 18:40:45.340061 139839549466368 tf_logging.py:115] Saver not created because there are no variables in the graph to restore\n"
     ]
    }
   ],
   "source": [
    "import tensorflow as tf\n",
    "import tensorflow_hub as hub\n",
    "import numpy as np\n",
    "import tf_sentencepiece\n",
    "\n",
    "# Set up graph.\n",
    "g = tf.Graph()\n",
    "with g.as_default():\n",
    "  text_input = tf.placeholder(dtype=tf.string, shape=[None])\n",
    "  en_de_embed = hub.Module(\"https://tfhub.dev/google/universal-sentence-encoder-xling/en-de/1\")\n",
    "  embedded_text = en_de_embed(text_input)\n",
    "  init_op = tf.group([tf.global_variables_initializer(), tf.tables_initializer()])\n",
    "g.finalize()\n",
    "\n",
    "# Initialize session.\n",
    "session = tf.Session(graph=g)\n",
    "session.run(init_op)\n"
   ]
  },
  {
   "cell_type": "code",
   "execution_count": null,
   "metadata": {},
   "outputs": [],
   "source": []
  },
  {
   "cell_type": "code",
   "execution_count": null,
   "metadata": {},
   "outputs": [],
   "source": []
  },
  {
   "cell_type": "code",
   "execution_count": null,
   "metadata": {},
   "outputs": [],
   "source": []
  },
  {
   "cell_type": "code",
   "execution_count": null,
   "metadata": {},
   "outputs": [],
   "source": []
  },
  {
   "cell_type": "code",
   "execution_count": 6,
   "metadata": {},
   "outputs": [],
   "source": [
    "from pathlib import Path\n",
    "import json\n",
    "import re\n",
    "import random\n",
    "import heapq\n",
    "from operator import itemgetter\n",
    "from tqdm.notebook import trange, tqdm\n",
    "from math import ceil\n",
    "\n",
    "data_dir = Path(\"data\")"
   ]
  },
  {
   "cell_type": "code",
   "execution_count": 14,
   "metadata": {},
   "outputs": [],
   "source": [
    "![ -f data/fddb_data.jsonl ] || jq '.[]' data/fddb_data.json > data/fddb_data.jsonl"
   ]
  },
  {
   "cell_type": "code",
   "execution_count": 15,
   "metadata": {},
   "outputs": [],
   "source": [
    "![ -f data/fddb_data_withimg.json ] || jq 'select(([.Bilder[]|select(.title != \"Noch kein Foto vorhanden.\")]|length) > 0)' data/fddb_data.jsonl |\\\n",
    "    jq -s . > data/fddb_data_withimg.json"
   ]
  },
  {
   "cell_type": "code",
   "execution_count": 16,
   "metadata": {},
   "outputs": [],
   "source": [
    "![ -f data/recipes/ingredients.json ] || jq '.ingredients[]|select(.ingredient)|.ingredient' data/recipes/processed_data.jsonl | jq -s unique > data/recipes/ingredients.json"
   ]
  },
  {
   "cell_type": "code",
   "execution_count": 17,
   "metadata": {},
   "outputs": [],
   "source": [
    "with open(str(data_dir / \"fddb_data_withimg.json\"), encoding='utf-8') as f:\n",
    "    fddb = json.load(f)\n",
    "    # todo: make unique here\n",
    "    _out_names = [e[\"name\"] for e in fddb]\n",
    "\n",
    "# jq '.ingredients[]|select(.ingredient)|.ingredient' processed_data.jsonl | jq -s unique > ingredients.json\n",
    "with open(str(data_dir / \"recipes/ingredients.json\"), encoding='utf-8') as f:\n",
    "    _in_names = json.load(f)\n"
   ]
  },
  {
   "cell_type": "code",
   "execution_count": 18,
   "metadata": {},
   "outputs": [],
   "source": [
    "def normalize_ingredient(ing: str):\n",
    "    # ing = re.sub(r\"\\(([^)])\\)\", \"\\g<1>\", ing)  # remove stuff in parens\n",
    "    ing = re.sub(r\"\\([^)]+\\)\", \"\", ing)  # remove stuff in parens\n",
    "    ing = re.sub(r\"(\\d+,)?\\d+ k?g\\b\", \"\", ing)  # remove xyz gram\n",
    "    ing = re.sub(r\",.*\", \"\", ing) # TODO: DONT DO THIS! SIGNIFICANT INFORMATION LOSS\n",
    "    ing = re.sub(r\"\\bzum .*\", \"\", ing)\n",
    "    ing = re.sub(r\"\\bfür .*\", \"\", ing)\n",
    "    ing = re.sub(r\"\\boder\\b.*\", \"\", ing)\n",
    "    ing = ing.strip()\n",
    "    return ing\n",
    "\n",
    "from extract_ingredients.util import normalize_out_ingredient\n",
    "    "
   ]
  },
  {
   "cell_type": "code",
   "execution_count": 19,
   "metadata": {},
   "outputs": [
    {
     "name": "stdout",
     "output_type": "stream",
     "text": [
      "374670\n"
     ]
    },
    {
     "data": {
      "text/plain": [
       "26324"
      ]
     },
     "execution_count": 19,
     "metadata": {},
     "output_type": "execute_result"
    }
   ],
   "source": [
    "in_names = list({normalize_ingredient(ing) for ing in _in_names})\n",
    "print(len(_in_names))\n",
    "in_names.sort()\n",
    "len(in_names)"
   ]
  },
  {
   "cell_type": "code",
   "execution_count": 20,
   "metadata": {},
   "outputs": [
    {
     "name": "stdout",
     "output_type": "stream",
     "text": [
      "122977\n"
     ]
    },
    {
     "data": {
      "text/plain": [
       "147431"
      ]
     },
     "execution_count": 20,
     "metadata": {},
     "output_type": "execute_result"
    }
   ],
   "source": [
    "print(len(_out_names))\n",
    "out_names = list({ning for ing in _out_names for ning in normalize_out_ingredient(ing)})\n",
    "out_names.sort()\n",
    "len(out_names)"
   ]
  },
  {
   "cell_type": "code",
   "execution_count": 21,
   "metadata": {},
   "outputs": [],
   "source": [
    "#def Matcher():\n",
    "#    def __init__(self, data_left, data_right, preproc_left, preproc_right):\n",
    "#        pre_left = list(map(preproc_left, data_left))\n",
    "#        self.left_vecs = list(zip(data_left, pre_left, get_sentence_vectors(pre_left)))\n",
    "#        \n",
    "#        pre_right = list(map(preproc_right, data_right))\n",
    "#        self.right_vecs = list(zip(data_right, pre_right, get_sentence_vectors(pre_right)))"
   ]
  },
  {
   "cell_type": "code",
   "execution_count": 22,
   "metadata": {},
   "outputs": [],
   "source": [
    "def make_chunks(l, n):\n",
    "    n = max(1, n)\n",
    "    return (l[i:i+n] for i in range(0, len(l), n))"
   ]
  },
  {
   "cell_type": "code",
   "execution_count": 23,
   "metadata": {},
   "outputs": [],
   "source": [
    "def get_sentence_vectors(texts):\n",
    "    bs = 10000\n",
    "    ccount = len(texts)//bs\n",
    "    chunks = make_chunks(texts, bs)\n",
    "    if ccount >= 3:\n",
    "        chunks = tqdm(chunks, total=ccount)\n",
    "    for chunk in chunks:\n",
    "        yield from session.run(embedded_text, feed_dict={text_input: chunk})"
   ]
  },
  {
   "cell_type": "code",
   "execution_count": 24,
   "metadata": {},
   "outputs": [],
   "source": [
    "def get_match(search: np.array, out_vecs, limit=30):\n",
    "    it = ((v[0], np.dot(v[1], search)) for v in out_vecs)\n",
    "    res_list = heapq.nlargest(limit, it, key=itemgetter(1))\n",
    "    return res_list"
   ]
  },
  {
   "cell_type": "code",
   "execution_count": 25,
   "metadata": {},
   "outputs": [
    {
     "data": {
      "application/vnd.jupyter.widget-view+json": {
       "model_id": "1f6f4b27592e4cab84a56c80b97f5136",
       "version_major": 2,
       "version_minor": 0
      },
      "text/plain": [
       "HBox(children=(FloatProgress(value=0.0, max=14.0), HTML(value='')))"
      ]
     },
     "metadata": {},
     "output_type": "display_data"
    }
   ],
   "source": [
    "out_vecs = list(zip(out_names, get_sentence_vectors(out_names)))"
   ]
  },
  {
   "cell_type": "code",
   "execution_count": 26,
   "metadata": {},
   "outputs": [
    {
     "data": {
      "text/plain": [
       "(512,)"
      ]
     },
     "execution_count": 26,
     "metadata": {},
     "output_type": "execute_result"
    }
   ],
   "source": [
    "out_vecs[0][1].shape"
   ]
  },
  {
   "cell_type": "code",
   "execution_count": 27,
   "metadata": {},
   "outputs": [
    {
     "data": {
      "text/plain": [
       "('8 Kräuter', '\"DIE FEINE\" Geflügel-Fleischwurst')"
      ]
     },
     "execution_count": 27,
     "metadata": {},
     "output_type": "execute_result"
    }
   ],
   "source": [
    "in_names[0], out_names[0]"
   ]
  },
  {
   "cell_type": "code",
   "execution_count": null,
   "metadata": {},
   "outputs": [],
   "source": []
  },
  {
   "cell_type": "code",
   "execution_count": 28,
   "metadata": {},
   "outputs": [],
   "source": [
    "in_vecs = list(zip(in_names, get_sentence_vectors(in_names)))"
   ]
  },
  {
   "cell_type": "code",
   "execution_count": 29,
   "metadata": {
    "scrolled": true
   },
   "outputs": [
    {
     "name": "stdout",
     "output_type": "stream",
     "text": [
      "Obst noch dazu nach Geschmack -> ('Fruit to go', 0.8392326)\n",
      "Gänsebrüste -> ('Gänsebrust', 0.8660896)\n",
      "Ziegenfleisch -> ('Ziegenfeta', 0.9113623)\n",
      "Champignons mit Flüssigkeit -> ('Champignons eingelegt', 0.8540534)\n",
      "Tomate tetrapack -> ('Gourmet Tomate', 0.78558564)\n",
      "Ananas - Schnitz -> ('Ananas - Scheiben', 0.89500946)\n",
      "BBQ-Sauce nach Wahl -> ('BBQ-Sauce', 0.76371264)\n",
      "Palmfett z. B. Palmin -> ('Kokosfett', 0.7291008)\n",
      "Schnittlauch bei Bedarf -> ('Schnittlauch', 0.8137975)\n",
      "Rindersteak à 200 - -> ('Rinderminutensteak', 0.7443519)\n",
      "Rosinen in Rim -> ('Rosinen', 0.78593117)\n",
      "Innereien vom Zicklein -> ('Kleine Scheibchen', 0.78706014)\n",
      "Lebensmittelfarbe und Smarties -> ('Back und Speisefarben', 0.7150064)\n",
      "Rückenspeck vom Schwein -> ('Rückensteak vom Schwein', 0.90191245)\n",
      "Geschenkeband -> ('Stücke', 0.80141395)\n",
      "Chilischote bzw. Peperoni -> ('Peperoni, scharf', 0.8561614)\n",
      "Vanillezucker Bourbon -> ('Bourbon Vanillezucker', 0.9733576)\n",
      "Marzipan - Kücken und Fondant-Eier -> ('Marzipan-Ei, mit Schokolade überzogen', 0.8515126)\n",
      "Essig  und 1 Schuss Sojasauce -> ('Soy Sauce, Sojasauce', 0.81844354)\n",
      "Oregano und Petersilie -> ('Pesto Petersilie', 0.82793355)\n",
      "Backmalz  inaktiv -> ('Backmalz', 0.78461707)\n",
      "Kekse mit dünnem Schokoladenüberzug -> ('Plätzchen, mit Schokolade', 0.86924446)\n",
      "Risotto vom Vortag -> ('Risotto, parboiled', 0.83039856)\n",
      "Camembert / 2 X -> ('Camembert leicht', 0.6670419)\n",
      "Kefir bei Bedarf -> ('Kefir', 0.7823888)\n",
      "Laugengebäck  ca. -> ('Laugengebäck', 0.7453326)\n",
      "Lachsfilet à -> ('Lachsfilet', 0.9162386)\n",
      "Hähnchenbrustfilet und/ -> ('Hähnchenbrustfilet', 0.8917093)\n",
      "Chilipulver ODER: -> ('Chili-Gewürzzubereitung', 0.7511687)\n",
      "Joghurt mit Mokkageschmack -> ('Mokka Joghurt', 0.88849527)\n",
      "Aprikose - Kerne -> ('Aprikosenkerne', 0.84674203)\n",
      "Tomate geachtelt -> ('Passierte Tomate', 0.8465297)\n",
      "Trockenfrüchte und Nüsse -> ('Nüsse und getrocknete Früchte', 0.8556364)\n",
      "Pfirsich aus der Dose -> ('Pfirsich, frisch', 0.9019786)\n",
      "Erdnussbutter mit -> ('Erdnussbutter', 0.88821685)\n",
      "Öl )Olivenöl) -> ('Salatöl', 0.83654594)\n",
      "Butter o. Diätmagarine -> ('Keto-Sahne', 0.8171077)\n",
      "Öl  alternativ Sonnenblumenöl -> ('Reines Sonnenblumenöl', 0.91811734)\n",
      "Bacon in Streifen -> ('Bacon in Streifen', 1.0)\n",
      "Stärkemehl ODER -> ('Vollkormehl', 0.8933851)\n",
      "Kekse  und einige -> ('Schoko und Keks', 0.8694029)\n",
      "Thunfisch  aus der Dose -> ('Wrap Thunfisch ', 0.9034178)\n",
      "Essig aus Essigessenz -> ('Essig Essenz', 0.8945442)\n",
      "Garnelenbällchen -> ('Fischbällchen ', 0.91876936)\n",
      "Pistazien -Paste -> ('Pistazien ', 0.89450336)\n",
      "Pflanzenöl ohne Geschmack -> ('Feinstes Pflanzenöl', 0.85579294)\n",
      "Blüten -Blätter von Rosen -> ('Ringelblumenblüten', 0.7803017)\n",
      "Kokosfett od. ersatzweise -> ('Kokosfett 100%', 0.86759686)\n",
      "Ei davon das Eigelb -> ('Eigelb, vom Huhn', 0.88398266)\n",
      "Mais mit Sud -> ('Süss Mais', 0.79583573)\n",
      "Schalotte und -> ('Schalotte', 0.9129666)\n",
      "Brot : -> ('Brot', 0.8398657)\n",
      "Minutensteak vom Rind -> ('Minutensteak, vom Rind', 0.9737216)\n",
      "Weißbrot ohne Kanten -> ('Kerniges Schwarzbrot', 0.85614425)\n",
      "Currypulver oderr Currykraut -> ('Currygewürz, Pulver', 0.8210629)\n",
      "Hafermehl -> ('Hafermehl', 1.0)\n",
      "Mandarine in Stücken -> ('Mandarinen', 0.8418069)\n",
      "Mais -> ('Mais', 0.9999999)\n",
      "Gelatine je -> ('Gelatine', 0.9396615)\n",
      "Büffelmozzarella in 16 Scheiben geschnitten -> ('Mozzarella in Scheiben', 0.8781532)\n",
      "Gemüsemischung mit Erbsen -> ('Gemüsemix, Erbsen', 0.92848617)\n",
      "Pflanzenmilch  nach Geschmack -> ('Rohmilch Vorzugsmilch', 0.84417117)\n",
      "Limettensaft evtl. auch 3 EL -> ('Limettensaft, Direktsaft', 0.7784355)\n",
      "Schokolade - Cookies -> ('Schokolade Schoko & Keks', 0.88567734)\n",
      "Quitte geschält -> ('Quitte, frisch', 0.875095)\n",
      "Tortenboden mit Rand -> ('Feiner Biskuit Tortenboden', 0.7669687)\n",
      "Öl Rapsöl -> ('Raps öl', 0.9273732)\n",
      "Tomatenmark / Tomatenketchup -> ('Tomaten-Ketchup', 0.86786366)\n",
      "Gewürzmischung mit Chili aus Italien -> ('Chilli & Knoblauch Gewürzmischung', 0.8312022)\n",
      "Gemüse - Allerlei -> ('Gemüse Allerlei', 0.95173013)\n",
      "Mettwürste -> ('Mettwürstchen', 0.9718963)\n",
      "Blutwurst ohne Speck -> ('Blutwurst ohne Speck', 1.0)\n",
      "Mayonnaise à ca. 200 ml -> ('Light Mayonnaise, 15cm Portion/ 15g', 0.7880838)\n",
      "Kartoffel hell -> ('Kartoffel', 0.8753537)\n",
      "Muschelfleisch von Miesmuscheln -> ('Marinierte Miesmuscheln', 0.9080193)\n",
      "Quittenmus -> ('Quitten-Gelee', 0.8882804)\n",
      "Alufolie und Backpapier -> ('Knabber-Esspapier', 0.70309997)\n",
      "Schmelzkäse - Ecke mit Kräutern -> ('Schnittkäse mit Kräutern', 0.9034921)\n",
      "Schmand /Sauerrahm -> ('Laugenbrezn', 0.8479185)\n",
      "Salat : -> ('Salat', 0.8607938)\n",
      "Espresso aus 3 TL Instantkaffee -> ('Doubleshot Espresso, Kaffee', 0.8773732)\n",
      "Chilischote frische -> ('Chilischote, frisch', 0.95922816)\n",
      "Linsen - Suppe -> ('Linsen Suppe ', 0.94673574)\n",
      "Cocktailtomaten nach Belieben -> ('Cocktailtomaten', 0.8743781)\n",
      "Schinken leicht geräucherter -> ('geräucherter Schinkenspeck', 0.91573143)\n",
      "Öl nach WW -> ('Öl', 0.7477908)\n",
      "Soja - Lecitin -> ('Soja-Granulat', 0.8243586)\n",
      "Schweinekotelett à ca. -> ('Hühnchen, Filet de poulet en tranches', 0.7450307)\n",
      "Brühe vom Spargelkochen -> ('Spargel Kpfe', 0.91161454)\n",
      "Nutella o. Ä. -> ('Nutella', 0.7860865)\n",
      "Cashewkerne als Topping -> ('Cashewkerne pikant gewürzt', 0.7995452)\n",
      "Rapsöl od. Olivenöl -> ('Olivenöl, Olivenöl', 0.8936864)\n",
      "Liebstöckel und Basilikum -> ('Pfannen-Lachs, Basilikum', 0.777323)\n",
      "Sambal Oelek . -> ('Sambal Oelek', 0.7858489)\n",
      "Holz vom schwarzen Johannisbeerstrauch -> ('Rote Johannisbeere', 0.8049583)\n",
      "Jodsalz mit Fluor -> ('Jodsalz mit Fluorid', 0.9464976)\n",
      "Kräuter  ersatzw. Schnittlauch -> ('Kräuter-Schinken', 0.8480308)\n",
      "Kräuter fein gehackte -> ('Streichrahm feine Kräuter', 0.91388166)\n",
      "Salz und Pfeffer ODER als Variante mit: -> ('Paprika geröstet, EDEKA, mit Meersalz und Rohrzuck...', 0.77091044)\n",
      "Jakobsmuschel mit Corail - ca. 200g -> ('Rotbarschfilet mit Hau', 0.668677)\n"
     ]
    }
   ],
   "source": [
    "for ingredient, vec in random.sample(in_vecs, 100):\n",
    "    res_list = get_match(vec, out_vecs)\n",
    "    print(\"{} -> {}\".format(ingredient, res_list[0]))"
   ]
  },
  {
   "cell_type": "code",
   "execution_count": 30,
   "metadata": {
    "scrolled": true
   },
   "outputs": [
    {
     "data": {
      "text/plain": [
       "[('Kartoffeln', 1.0),\n",
       " ('Kartoffeln ', 1.0),\n",
       " ('Kartoffeln ganz', 0.89777976),\n",
       " ('Kartoffeln gekocht', 0.89632434),\n",
       " ('Kartoffelstock', 0.8959535),\n",
       " ('Kartoffeln, gegart', 0.89144516),\n",
       " ('Kartoffeln roh', 0.8905239),\n",
       " ('Kartoffeln gebacken', 0.89049083),\n",
       " ('Kartoffelscheiben', 0.89016193),\n",
       " ('Kartoffeln, ganz', 0.88885343),\n",
       " ('Kartoffeln suppe', 0.8838953),\n",
       " ('Ganze Kartoffeln', 0.88332695),\n",
       " ('Ganze Kartoffeln ', 0.88332695),\n",
       " ('Brat Kartoffeln ', 0.8827737),\n",
       " ('Kartoffel', 0.880857),\n",
       " ('Kartoffelnudeln', 0.8792579),\n",
       " ('Kartoffelsticks', 0.8778616),\n",
       " ('Kartoffelsnack', 0.8732352),\n",
       " ('Gekochte Kartoffeln', 0.8718474),\n",
       " ('Kartoffelpree ', 0.8716015),\n",
       " ('Kartoffeln, roh', 0.8711822),\n",
       " ('geschälte Kartoffeln', 0.8708629),\n",
       " ('Kartoffel Sticks', 0.8684819),\n",
       " ('Kartoffeln mehlig', 0.86703193),\n",
       " ('Kartoffelklöße', 0.86207986),\n",
       " ('Kartoffelpürree', 0.8606976),\n",
       " ('Kartoffelpüree', 0.86053073),\n",
       " ('Kartoffelpüree ', 0.8605306),\n",
       " ('Kartoffel-Gemüse', 0.86040795),\n",
       " ('Kartoffelpürre ', 0.8589697)]"
      ]
     },
     "execution_count": 30,
     "metadata": {},
     "output_type": "execute_result"
    }
   ],
   "source": [
    "z = [inv for inv in in_vecs if inv[0] == 'Kartoffeln'][0]\n",
    "get_match(z[1], out_vecs)"
   ]
  },
  {
   "cell_type": "code",
   "execution_count": 31,
   "metadata": {},
   "outputs": [
    {
     "data": {
      "text/plain": [
       "[('Schalotten', 0.99999994),\n",
       " ('Sülze', 0.8927401),\n",
       " ('Ringlotten', 0.87886477),\n",
       " ('Schaschlik', 0.87672347),\n",
       " ('Selters', 0.87629664),\n",
       " ('Selchspeck', 0.87524664),\n",
       " ('Leberkse', 0.87103057),\n",
       " ('Hustelinchen', 0.8681994),\n",
       " ('Schwartenmagen', 0.86798435),\n",
       " ('Karlchen', 0.8628453),\n",
       " ('Maiskölbchen', 0.8627955),\n",
       " ('Grützwust', 0.85984874),\n",
       " ('Mürbchen ', 0.8595171),\n",
       " ('Maisecke', 0.85870075),\n",
       " ('Kersen', 0.8584007),\n",
       " ('Käsknacker', 0.85838103),\n",
       " ('Cemen', 0.85761976),\n",
       " ('Lattich', 0.8575938),\n",
       " ('Hhnerfilet', 0.8569063),\n",
       " ('Ketschup', 0.8567475),\n",
       " ('Korneck', 0.85655665),\n",
       " ('Körnereck', 0.8554502),\n",
       " ('Krönchen', 0.8546831),\n",
       " ('Knoferl', 0.85430384),\n",
       " ('Landschinken', 0.854226),\n",
       " ('Landschinken ', 0.854226),\n",
       " ('Wicküler ', 0.85283446),\n",
       " ('Roggenbrtchen ', 0.8517977),\n",
       " ('Salchichn', 0.8514552),\n",
       " ('Rohschinken', 0.8509237)]"
      ]
     },
     "execution_count": 31,
     "metadata": {},
     "output_type": "execute_result"
    }
   ],
   "source": [
    "z = list(get_sentence_vectors([\"Schalotten\"]))[0]\n",
    "get_match(z, out_vecs, limit=30)"
   ]
  },
  {
   "cell_type": "code",
   "execution_count": 32,
   "metadata": {},
   "outputs": [
    {
     "data": {
      "text/plain": [
       "[('Salz', 0.99999994),\n",
       " ('Salzgurken', 0.9089097),\n",
       " ('Gut Salzig', 0.9034263),\n",
       " ('Salzbrezeln', 0.8880923),\n",
       " ('Salzgurken, salzig', 0.8686831),\n",
       " ('Salzmandeln', 0.8676863),\n",
       " ('Salzgurke', 0.86386824),\n",
       " ('Salzbrezeln, Salzig', 0.8605131),\n",
       " ('Salzbrezel', 0.8582727),\n",
       " ('Salz-Mandeln', 0.85328484),\n",
       " ('salzbrezel', 0.8416535),\n",
       " ('Salz, Jodsalz', 0.8251067),\n",
       " ('Salz-Diamanten', 0.8203409),\n",
       " ('Salzbutter', 0.81924367),\n",
       " ('Tafelsalz', 0.81821257),\n",
       " ('Salzdillgurken', 0.8158476),\n",
       " ('Jod Salz', 0.81424797),\n",
       " ('Salz flutes, Salz', 0.81192493),\n",
       " ('Meersalz', 0.811814),\n",
       " ('Blutdruck Salz', 0.8090306),\n",
       " ('Salz-Stangen', 0.8021811),\n",
       " ('smorbar gesalzen', 0.79520434),\n",
       " ('Chips Salz', 0.79345155),\n",
       " ('Salzstangerl', 0.78856623),\n",
       " ('Saltufo', 0.78672373),\n",
       " ('Salzstange ', 0.7866405),\n",
       " ('Salz Kräcker', 0.780357),\n",
       " ('Corn, salz', 0.7801466),\n",
       " ('Salz Stangen', 0.7790837),\n",
       " ('Koblauch Salz', 0.77868164)]"
      ]
     },
     "execution_count": 32,
     "metadata": {},
     "output_type": "execute_result"
    }
   ],
   "source": [
    "z = list(get_sentence_vectors([normalize_ingredient(\"Salz\")]))[0]\n",
    "get_match(z, out_vecs, limit=30)"
   ]
  },
  {
   "cell_type": "code",
   "execution_count": 33,
   "metadata": {},
   "outputs": [
    {
     "data": {
      "text/plain": [
       "[('Möhre', 1.0),\n",
       " ('Mürbchen ', 0.8661137),\n",
       " ('Maisecke', 0.8569766),\n",
       " ('Mairübchen', 0.84997964),\n",
       " ('Cemen', 0.84976923),\n",
       " ('Hirsegrieß', 0.8468807),\n",
       " ('Hirsebllchen', 0.8456995),\n",
       " ('Korneck', 0.8455518),\n",
       " ('Schmelzkse', 0.83843553),\n",
       " ('Hirsebrei', 0.8378885),\n",
       " ('Hirse', 0.8378306),\n",
       " ('Möhrchen', 0.83730924),\n",
       " ('Kareespeck', 0.8371331),\n",
       " ('Grützwust', 0.83625674),\n",
       " ('Hirse Griess', 0.8357909),\n",
       " ('Bergpfirsich', 0.8353781),\n",
       " ('Kümmelpärle', 0.8350318),\n",
       " ('Schalotten', 0.83413565),\n",
       " ('Kräcker', 0.8336719),\n",
       " ('Gutfried', 0.8334216),\n",
       " ('Körnereck', 0.83339566),\n",
       " ('Tafelkren', 0.8322476),\n",
       " ('Süssmais', 0.8322011),\n",
       " ('Karreespeck', 0.8319967),\n",
       " ('Karreespeck ', 0.8319967),\n",
       " ('Edelschinlen', 0.83168244),\n",
       " ('Rotbäckchen', 0.83162296),\n",
       " ('Schokostrudel', 0.8315231),\n",
       " ('Schokolinsen', 0.83025897),\n",
       " ('Krönchen', 0.8302106)]"
      ]
     },
     "execution_count": 33,
     "metadata": {},
     "output_type": "execute_result"
    }
   ],
   "source": [
    "z = list(get_sentence_vectors([normalize_ingredient(\"Möhre\")]))[0]\n",
    "get_match(z, out_vecs, limit=30)"
   ]
  },
  {
   "cell_type": "code",
   "execution_count": 34,
   "metadata": {
    "scrolled": true
   },
   "outputs": [
    {
     "data": {
      "text/plain": [
       "[('Zitronen Saft', 0.93052155),\n",
       " ('Zitronenrolle', 0.92803085),\n",
       " ('Zitronenwasser', 0.92116797),\n",
       " ('Zitronenschale', 0.91545546),\n",
       " ('Zitronencreme', 0.9146689),\n",
       " ('Zitronensaft', 0.914645),\n",
       " ('Zitronensaft ', 0.91464496),\n",
       " ('Zitronenschaum', 0.9134511),\n",
       " ('Zitronen-Pesto', 0.9065609),\n",
       " ('Zitronen limonade', 0.9027357),\n",
       " ('Zitronen T', 0.8955948),\n",
       " ('Zitronenmelisse', 0.89085466),\n",
       " ('Lemon', 0.89002806),\n",
       " ('Zitrone', 0.886102),\n",
       " ('Zitronenlimonde', 0.8857571),\n",
       " ('Zitronenlimonade', 0.8841474),\n",
       " ('Zitronen-Häppchen', 0.8795186),\n",
       " ('Zitronensauce', 0.874436),\n",
       " ('Zitronen Aroma', 0.8718133),\n",
       " ('Zitronen Limonade', 0.87002224),\n",
       " ('Zitronen Limonade ', 0.87002224),\n",
       " ('Zitronet', 0.868004),\n",
       " ('Zitronen T, Zitrone', 0.8661582),\n",
       " ('Zitronenzucker', 0.86572045),\n",
       " ('Zitronenwasser, Zitrone', 0.86054575),\n",
       " ('Zitronenkuchen', 0.8587699),\n",
       " ('Zitronen Kuchen', 0.85712105),\n",
       " ('Zitronenschalen', 0.8568181),\n",
       " ('Zitronenschalen ', 0.8568181),\n",
       " ('Zitronen-Rolle', 0.8536694)]"
      ]
     },
     "execution_count": 34,
     "metadata": {},
     "output_type": "execute_result"
    }
   ],
   "source": [
    "z = list(get_sentence_vectors([normalize_ingredient(\"Zitronen\")]))[0]\n",
    "get_match(z, out_vecs, limit=30)"
   ]
  },
  {
   "cell_type": "code",
   "execution_count": 35,
   "metadata": {},
   "outputs": [
    {
     "data": {
      "text/plain": [
       "[('Pfeffer', 1.0),\n",
       " ('Pfefferonen', 0.8929687),\n",
       " ('Pfefferminz', 0.88500786),\n",
       " ('Pfefferbreze', 0.8844123),\n",
       " ('Pfeffer Rolle', 0.88227504),\n",
       " ('Pfefferblock', 0.880451),\n",
       " ('Pfeffer-Schinken', 0.87850463),\n",
       " ('Pfefferminze', 0.8713012),\n",
       " ('Pfeffer-Braten', 0.8676797),\n",
       " ('Pfefferbeiser', 0.86668116),\n",
       " ('Pfeffer-Beißer', 0.86633503),\n",
       " ('Pfefferminztee', 0.86202484),\n",
       " ('Pfefferbeisser', 0.8613458),\n",
       " ('Pfeffersäckchen', 0.8607872),\n",
       " ('Pfefferbraten', 0.8570889),\n",
       " ('Bunter Pfeffer', 0.8531077),\n",
       " ('Pfeffer, weiß', 0.84696233),\n",
       " ('Pfefferkarree', 0.8463141),\n",
       " ('Pfeffer Braten', 0.84038985),\n",
       " ('Pfeffernüsse', 0.83831143),\n",
       " ('Pfeffer, schwarz', 0.8356359),\n",
       " ('Pfefferoni', 0.83562803),\n",
       " ('Pfefferbeißer', 0.8338611),\n",
       " ('Grüner Pfeffer', 0.83032626),\n",
       " ('Pfeffer Soße', 0.8280723),\n",
       " ('Pfefferonen, scharf', 0.82477903),\n",
       " ('Paprikaschote', 0.82357407),\n",
       " ('Pfefferschinken', 0.8235053),\n",
       " ('Käse, Pfeffer', 0.81792927),\n",
       " ('Salz und Pfeffer', 0.8160138)]"
      ]
     },
     "execution_count": 35,
     "metadata": {},
     "output_type": "execute_result"
    }
   ],
   "source": [
    "z = list(get_sentence_vectors([normalize_ingredient(\"Pfeffer\")]))[0]\n",
    "get_match(z, out_vecs, limit=30)"
   ]
  },
  {
   "cell_type": "code",
   "execution_count": 36,
   "metadata": {},
   "outputs": [
    {
     "data": {
      "text/plain": [
       "[('Zucchini', 1.0),\n",
       " ('Zucchini ', 1.0),\n",
       " ('Zuchini', 0.96570617),\n",
       " ('Zucchini-Puffer', 0.95276517),\n",
       " ('Zucchini-Gratin', 0.94445246),\n",
       " ('Zucchini Pfanne', 0.9339043),\n",
       " ('Zucchini Quiche', 0.9273448),\n",
       " ('Zucchini, gegart', 0.91964746),\n",
       " ('Zucchini-Pfanne', 0.9194037),\n",
       " ('Zucchini-Reistopf', 0.91909873),\n",
       " ('Zucchini-Fritata', 0.9189852),\n",
       " ('Zucchinipuffer', 0.915961),\n",
       " ('Zucchini gebraten', 0.90767103),\n",
       " ('Gebackene Zucchini', 0.90149117),\n",
       " ('Zucchini Püree', 0.89597404),\n",
       " ('Currychini', 0.8911982),\n",
       " ('Zucchini-puffer', 0.8880278),\n",
       " ('Zucchinibrot', 0.88706595),\n",
       " ('Zucchini Auflauf', 0.8870287),\n",
       " ('Zucchini Cannelloni', 0.88696444),\n",
       " ('Papucchini', 0.88294375),\n",
       " ('Zucchini-Cheddar-Puffer', 0.8814348),\n",
       " ('Zucchini Mischung', 0.8783588),\n",
       " ('Crocchini', 0.87423617),\n",
       " ('Zuchini gegrillt', 0.8742034),\n",
       " ('Zucchini-Paprika-Ragu', 0.8666969),\n",
       " ('Gegrillte Zucchini', 0.86394775),\n",
       " ('Zucchini Brownie', 0.8617482),\n",
       " ('Zucchini-Gemüse-Pfanne', 0.8587594),\n",
       " ('Zucchini-Spaghetti', 0.857448)]"
      ]
     },
     "execution_count": 36,
     "metadata": {},
     "output_type": "execute_result"
    }
   ],
   "source": [
    "z = list(get_sentence_vectors([normalize_ingredient(\"Zucchini\")]))[0]\n",
    "get_match(z, out_vecs, limit=30)"
   ]
  },
  {
   "cell_type": "code",
   "execution_count": 37,
   "metadata": {},
   "outputs": [
    {
     "data": {
      "text/plain": [
       "[('Paprikaschote', 1.0),\n",
       " ('Paprikaschoten', 0.98521686),\n",
       " ('Paprikagulasch', 0.9507465),\n",
       " ('Paprikasülze', 0.9479989),\n",
       " ('Paprika-Gulasch', 0.9312786),\n",
       " ('Paprikapastete', 0.9309405),\n",
       " ('Paprikastreifen', 0.9304861),\n",
       " ('Gefüllte Paprikaschote', 0.9249152),\n",
       " ('Paprikapulver', 0.9245887),\n",
       " ('Paprikacreme', 0.92321074),\n",
       " ('Paprikagemüse', 0.92314374),\n",
       " ('Paprikaknacker', 0.91852474),\n",
       " ('Paprikasalat', 0.91250634),\n",
       " ('Paprika Edelsüss', 0.9123242),\n",
       " ('Rote Paprikaschoten', 0.9121383),\n",
       " ('Paprikamark', 0.91010225),\n",
       " ('Paprikareis', 0.9083037),\n",
       " ('Paprika-Mandel-Dip', 0.90779126),\n",
       " ('Paprika-Bruscetta', 0.906524),\n",
       " ('Paprikasoße', 0.9050809),\n",
       " ('Paprika-Lyoner', 0.9030753),\n",
       " ('Eingelegte Paprika', 0.90060955),\n",
       " ('Paprikasticks', 0.8994635),\n",
       " ('Paprika-Chili', 0.89918077),\n",
       " ('Paprikasuppe', 0.89701134),\n",
       " ('Chilischote', 0.89657897),\n",
       " ('Paprika Quark', 0.89454365),\n",
       " ('Geräucherte Paprika', 0.8937136),\n",
       " ('Paprika Snackis', 0.8935468),\n",
       " ('Gefüllte Paprika', 0.8931304)]"
      ]
     },
     "execution_count": 37,
     "metadata": {},
     "output_type": "execute_result"
    }
   ],
   "source": [
    "z = list(get_sentence_vectors([normalize_ingredient(\"Paprikaschote\")]))[0]\n",
    "get_match(z, out_vecs, limit=30)"
   ]
  },
  {
   "cell_type": "code",
   "execution_count": 38,
   "metadata": {},
   "outputs": [
    {
     "data": {
      "text/plain": [
       "[('Zucker', 0.99999994),\n",
       " ('Gelier Zucker', 0.9193795),\n",
       " ('Gelier Zucker ', 0.91937935),\n",
       " ('Zuckerbrezel', 0.8992935),\n",
       " ('Fein Zucker', 0.88426435),\n",
       " ('Südzucker', 0.8819196),\n",
       " ('Zucker-Streusel', 0.8814236),\n",
       " ('Fruchtzucker', 0.8783986),\n",
       " ('Milchzucker', 0.8741473),\n",
       " ('Palmzucker', 0.87408715),\n",
       " ('Brauner Zucker', 0.8705966),\n",
       " ('Traubenzucker', 0.8682995),\n",
       " ('Traubenzucker ', 0.8682995),\n",
       " ('Gelierzucker', 0.86561555),\n",
       " ('Zuckermais', 0.86528414),\n",
       " ('Zuckerkarotten', 0.86428124),\n",
       " ('Feiner Zucker', 0.8640773),\n",
       " ('Zuckerschoten', 0.86231935),\n",
       " ('Backzucker', 0.86181164),\n",
       " ('Feinzucker', 0.86068845),\n",
       " ('Süßstoff', 0.8601293),\n",
       " ('Rohrzucker', 0.8591718),\n",
       " ('Zitronenzucker', 0.85892457),\n",
       " ('Süßstoff, Zucker', 0.8552714),\n",
       " ('Zucker Sticks', 0.8548074),\n",
       " ('Puderzucker ', 0.8527151),\n",
       " ('Puderzucker', 0.852715),\n",
       " ('Zuckerstange', 0.8474886),\n",
       " ('Kandiszucker', 0.8458615),\n",
       " ('Zuckerfrei Bonbon', 0.8427985)]"
      ]
     },
     "execution_count": 38,
     "metadata": {},
     "output_type": "execute_result"
    }
   ],
   "source": [
    "z = list(get_sentence_vectors([normalize_ingredient(\"Zucker\")]))[0]\n",
    "get_match(z, out_vecs, limit=30)"
   ]
  },
  {
   "cell_type": "code",
   "execution_count": 39,
   "metadata": {},
   "outputs": [
    {
     "data": {
      "text/plain": [
       "[('Knoblauch', 0.99999994),\n",
       " ('Knoblauchgurken', 0.9575032),\n",
       " ('Knoblauchgurken ', 0.9575032),\n",
       " ('Knoblauchzehe', 0.9545717),\n",
       " ('Knoblauchspeck', 0.95325136),\n",
       " ('Knoblauchpüree', 0.94609964),\n",
       " ('Knoblauchschmalz', 0.94249153),\n",
       " ('Knoblauchecken', 0.93821514),\n",
       " ('Knoblauchsauce', 0.92497647),\n",
       " ('Knoblauchcreme', 0.91737366),\n",
       " ('Knoblauchcreme ', 0.91737366),\n",
       " ('Knoblauchbraten', 0.9143625),\n",
       " ('Knoblauch, getrocknet', 0.909333),\n",
       " ('Knoblauchbutter', 0.908661),\n",
       " ('Knoblauchsoße', 0.9085437),\n",
       " ('Knoblauch Braten', 0.90431464),\n",
       " ('Knoblauch  sauce', 0.90300894),\n",
       " ('Knoblauch sauce', 0.90300894),\n",
       " ('Knoblauch-Baguette', 0.90248096),\n",
       " ('Knoblauchkick', 0.9013521),\n",
       " ('Knoblauchsalami', 0.90006006),\n",
       " ('Knoblauch-Creme', 0.897392),\n",
       " ('Knoblauchsuppe', 0.8959119),\n",
       " ('Knoblauch Senf', 0.8951769),\n",
       " ('Knoblauch Pulver', 0.891781),\n",
       " ('Knoblauchbeißer', 0.8914834),\n",
       " ('Knoblauch, frisch', 0.8905188),\n",
       " ('Knoblauchbaguette', 0.88851404),\n",
       " ('Knoblauch Dressing', 0.88626647),\n",
       " ('Knoblauchecken, Knoblauch', 0.88570744)]"
      ]
     },
     "execution_count": 39,
     "metadata": {},
     "output_type": "execute_result"
    }
   ],
   "source": [
    "z = list(get_sentence_vectors([normalize_ingredient(\"Knoblauch\")]))[0]\n",
    "get_match(z, out_vecs, limit=30)"
   ]
  },
  {
   "cell_type": "code",
   "execution_count": 41,
   "metadata": {},
   "outputs": [
    {
     "data": {
      "application/vnd.jupyter.widget-view+json": {
       "model_id": "ecf93d603b28462c958f79aec2faa529",
       "version_major": 2,
       "version_minor": 0
      },
      "text/plain": [
       "HBox(children=(FloatProgress(value=0.0, max=26324.0), HTML(value='')))"
      ]
     },
     "metadata": {},
     "output_type": "display_data"
    },
    {
     "name": "stdout",
     "output_type": "stream",
     "text": [
      "\n"
     ]
    }
   ],
   "source": [
    "# i thought multiprocessing is impossible in jupyter notebook?\n",
    "# better not question it\n",
    "from multiprocessing import Pool, cpu_count\n",
    "\n",
    "def jsonable(e):\n",
    "    return [(a,float(b)) for a, b in e]\n",
    "\n",
    "def get_match_w(t):\n",
    "    ing, vec = t\n",
    "    return ing, get_match(vec, out_vecs)\n",
    "\n",
    "all_ings = {}\n",
    "with Pool(cpu_count()) as pool:\n",
    "    for ing, match in pool.imap(get_match_w, tqdm(in_vecs), chunksize=100):\n",
    "        all_ings[ing] = jsonable(match)"
   ]
  },
  {
   "cell_type": "code",
   "execution_count": null,
   "metadata": {},
   "outputs": [],
   "source": []
  },
  {
   "cell_type": "code",
   "execution_count": 42,
   "metadata": {},
   "outputs": [],
   "source": [
    "\n",
    "all_ings_orig = {ing: all_ings[normalize_ingredient(ing)] for ing in _in_names}"
   ]
  },
  {
   "cell_type": "code",
   "execution_count": 43,
   "metadata": {},
   "outputs": [],
   "source": [
    "with open(\"data/recipe-ingredient-to-fooddb.json\", \"w\") as f:\n",
    "    json.dump(all_ings_orig, f)"
   ]
  },
  {
   "cell_type": "code",
   "execution_count": null,
   "metadata": {},
   "outputs": [],
   "source": []
  }
 ],
 "metadata": {
  "kernelspec": {
   "display_name": "Python 3",
   "language": "python",
   "name": "python3"
  },
  "language_info": {
   "codemirror_mode": {
    "name": "ipython",
    "version": 3
   },
   "file_extension": ".py",
   "mimetype": "text/x-python",
   "name": "python",
   "nbconvert_exporter": "python",
   "pygments_lexer": "ipython3",
   "version": "3.5.2"
  }
 },
 "nbformat": 4,
 "nbformat_minor": 4
}
