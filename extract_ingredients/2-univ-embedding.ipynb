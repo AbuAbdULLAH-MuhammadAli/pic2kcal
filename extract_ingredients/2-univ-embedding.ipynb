{
 "cells": [
  {
   "cell_type": "code",
   "execution_count": 1,
   "metadata": {},
   "outputs": [],
   "source": [
    "# run in docker:\n",
    "# sudo docker run -p 8890:8888 -v /home/tehdog/data/dev/2019/pic2kcal-cv-praktikum:/tf/notebooks --runtime=nvidia -it --rm tensorflow/tensorflow:1.12.0-gpu-py3 jupyter notebook --allow-root --notebook-dir=/tf/notebooks\n",
    "# crashes in TF1.4!\n",
    "# does not work with Arch Linux TF installation!"
   ]
  },
  {
   "cell_type": "code",
   "execution_count": 2,
   "metadata": {},
   "outputs": [
    {
     "name": "stdout",
     "output_type": "stream",
     "text": [
      "/tf/notebooks\n"
     ]
    }
   ],
   "source": [
    "%cd .."
   ]
  },
  {
   "cell_type": "code",
   "execution_count": 3,
   "metadata": {},
   "outputs": [
    {
     "name": "stdout",
     "output_type": "stream",
     "text": [
      "Requirement already satisfied: tensorflow-hub in /usr/local/lib/python3.5/dist-packages (0.5.0)\n",
      "Requirement already satisfied: six>=1.10.0 in /usr/local/lib/python3.5/dist-packages (from tensorflow-hub) (1.11.0)\n",
      "Requirement already satisfied: numpy>=1.12.0 in /usr/local/lib/python3.5/dist-packages (from tensorflow-hub) (1.15.4)\n",
      "Requirement already satisfied: protobuf>=3.4.0 in /usr/local/lib/python3.5/dist-packages (from tensorflow-hub) (3.6.1)\n",
      "Requirement already satisfied: setuptools in /usr/local/lib/python3.5/dist-packages (from protobuf>=3.4.0->tensorflow-hub) (40.5.0)\n",
      "\u001b[33mYou are using pip version 18.1, however version 19.1.1 is available.\n",
      "You should consider upgrading via the 'pip install --upgrade pip' command.\u001b[0m\n",
      "Requirement already satisfied: sentencepiece in /usr/local/lib/python3.5/dist-packages (0.1.82)\n",
      "\u001b[33mYou are using pip version 18.1, however version 19.1.1 is available.\n",
      "You should consider upgrading via the 'pip install --upgrade pip' command.\u001b[0m\n",
      "Requirement already satisfied: tf-sentencepiece in /usr/local/lib/python3.5/dist-packages (0.1.82.1)\n",
      "\u001b[33mYou are using pip version 18.1, however version 19.1.1 is available.\n",
      "You should consider upgrading via the 'pip install --upgrade pip' command.\u001b[0m\n",
      "Requirement already satisfied: tqdm in /usr/local/lib/python3.5/dist-packages (4.32.2)\n",
      "\u001b[33mYou are using pip version 18.1, however version 19.1.1 is available.\n",
      "You should consider upgrading via the 'pip install --upgrade pip' command.\u001b[0m\n"
     ]
    }
   ],
   "source": [
    "!pip install tensorflow-hub\n",
    "!pip install sentencepiece\n",
    "!pip install tf-sentencepiece\n",
    "!pip install tqdm"
   ]
  },
  {
   "cell_type": "code",
   "execution_count": 4,
   "metadata": {},
   "outputs": [
    {
     "name": "stdout",
     "output_type": "stream",
     "text": [
      "INFO:tensorflow:Saver not created because there are no variables in the graph to restore\n"
     ]
    },
    {
     "name": "stderr",
     "output_type": "stream",
     "text": [
      "WARNING: Logging before flag parsing goes to stderr.\n",
      "I0713 20:20:14.771718 140330910422784 tf_logging.py:115] Saver not created because there are no variables in the graph to restore\n"
     ]
    }
   ],
   "source": [
    "import tensorflow as tf\n",
    "import tensorflow_hub as hub\n",
    "import numpy as np\n",
    "import tf_sentencepiece\n",
    "\n",
    "# Set up graph.\n",
    "g = tf.Graph()\n",
    "with g.as_default():\n",
    "  text_input = tf.placeholder(dtype=tf.string, shape=[None])\n",
    "  en_de_embed = hub.Module(\"https://tfhub.dev/google/universal-sentence-encoder-xling/en-de/1\")\n",
    "  embedded_text = en_de_embed(text_input)\n",
    "  init_op = tf.group([tf.global_variables_initializer(), tf.tables_initializer()])\n",
    "g.finalize()\n",
    "\n",
    "# Initialize session.\n",
    "session = tf.Session(graph=g)\n",
    "session.run(init_op)\n"
   ]
  },
  {
   "cell_type": "code",
   "execution_count": null,
   "metadata": {},
   "outputs": [],
   "source": []
  },
  {
   "cell_type": "code",
   "execution_count": null,
   "metadata": {},
   "outputs": [],
   "source": []
  },
  {
   "cell_type": "code",
   "execution_count": null,
   "metadata": {},
   "outputs": [],
   "source": []
  },
  {
   "cell_type": "code",
   "execution_count": null,
   "metadata": {},
   "outputs": [],
   "source": []
  },
  {
   "cell_type": "code",
   "execution_count": 5,
   "metadata": {},
   "outputs": [],
   "source": [
    "from pathlib import Path\n",
    "import json\n",
    "import re\n",
    "import random\n",
    "import heapq\n",
    "from operator import itemgetter\n",
    "from tqdm import tqdm_notebook as tqdm\n",
    "from math import ceil\n",
    "\n",
    "data_dir = Path(\"data\")"
   ]
  },
  {
   "cell_type": "code",
   "execution_count": 6,
   "metadata": {},
   "outputs": [],
   "source": [
    "# jq '.[]' fddb_data_v3.json > fddb_data_v3.jsonl\n",
    "# jq 'select(([.Bilder[]|select(.title != \"Noch kein Foto vorhanden.\")]|length) > 0)' fddb_data_v3.jsonl | jq -s > fddb_data_v3_withimg.json\n",
    "with open(str(data_dir / \"fddb_data_v4_withimg.json\"), encoding='utf-8') as f:\n",
    "    fddb = json.load(f)\n",
    "    # todo: make unique here\n",
    "    _out_names = [e[\"name\"] for e in fddb]\n",
    "\n",
    "# jq '.ingredients[]|select(.ingredient)|.ingredient' processed_data.jsonl | jq -s unique > ingredients.json\n",
    "with open(str(data_dir / \"recipes/ingredients.json\"), encoding='utf-8') as f:\n",
    "    _in_names = json.load(f)\n"
   ]
  },
  {
   "cell_type": "code",
   "execution_count": 7,
   "metadata": {},
   "outputs": [],
   "source": [
    "def normalize_ingredient(ing: str):\n",
    "    # ing = re.sub(r\"\\(([^)])\\)\", \"\\g<1>\", ing)  # remove stuff in parens\n",
    "    ing = re.sub(r\"\\([^)]+\\)\", \"\", ing)  # remove stuff in parens\n",
    "    ing = re.sub(r\"(\\d+,)?\\d+ k?g\\b\", \"\", ing)  # remove xyz gram\n",
    "    ing = re.sub(r\",.*\", \"\", ing) # TODO: DONT DO THIS! SIGNIFICANT INFORMATION LOSS\n",
    "    ing = re.sub(r\"\\bzum .*\", \"\", ing)\n",
    "    ing = re.sub(r\"\\boder\\b.*\", \"\", ing)\n",
    "    ing = ing.strip()\n",
    "    return ing\n",
    "\n",
    "from extract_ingredients.util import normalize_out_ingredient\n",
    "    "
   ]
  },
  {
   "cell_type": "code",
   "execution_count": 8,
   "metadata": {},
   "outputs": [
    {
     "name": "stdout",
     "output_type": "stream",
     "text": [
      "258944\n"
     ]
    },
    {
     "data": {
      "text/plain": [
       "21410"
      ]
     },
     "execution_count": 8,
     "metadata": {},
     "output_type": "execute_result"
    }
   ],
   "source": [
    "in_names = list({normalize_ingredient(ing) for ing in _in_names})\n",
    "print(len(_in_names))\n",
    "in_names.sort()\n",
    "len(in_names)"
   ]
  },
  {
   "cell_type": "code",
   "execution_count": 9,
   "metadata": {},
   "outputs": [
    {
     "name": "stdout",
     "output_type": "stream",
     "text": [
      "122977\n"
     ]
    },
    {
     "data": {
      "text/plain": [
       "147431"
      ]
     },
     "execution_count": 9,
     "metadata": {},
     "output_type": "execute_result"
    }
   ],
   "source": [
    "print(len(_out_names))\n",
    "out_names = list({ning for ing in _out_names for ning in normalize_out_ingredient(ing)})\n",
    "out_names.sort()\n",
    "len(out_names)"
   ]
  },
  {
   "cell_type": "code",
   "execution_count": 10,
   "metadata": {},
   "outputs": [],
   "source": [
    "#def Matcher():\n",
    "#    def __init__(self, data_left, data_right, preproc_left, preproc_right):\n",
    "#        pre_left = list(map(preproc_left, data_left))\n",
    "#        self.left_vecs = list(zip(data_left, pre_left, get_sentence_vectors(pre_left)))\n",
    "#        \n",
    "#        pre_right = list(map(preproc_right, data_right))\n",
    "#        self.right_vecs = list(zip(data_right, pre_right, get_sentence_vectors(pre_right)))"
   ]
  },
  {
   "cell_type": "code",
   "execution_count": 11,
   "metadata": {},
   "outputs": [],
   "source": [
    "def make_chunks(l, n):\n",
    "    n = max(1, n)\n",
    "    return (l[i:i+n] for i in range(0, len(l), n))"
   ]
  },
  {
   "cell_type": "code",
   "execution_count": 12,
   "metadata": {},
   "outputs": [],
   "source": [
    "def get_sentence_vectors(texts):\n",
    "    bs = 10000\n",
    "    ccount = len(texts)//bs\n",
    "    chunks = make_chunks(texts, bs)\n",
    "    if ccount >= 3:\n",
    "        chunks = tqdm(chunks, total=ccount)\n",
    "    for chunk in chunks:\n",
    "        yield from session.run(embedded_text, feed_dict={text_input: chunk})"
   ]
  },
  {
   "cell_type": "code",
   "execution_count": 13,
   "metadata": {},
   "outputs": [],
   "source": [
    "def get_match(search: np.array, out_vecs, limit=30):\n",
    "    it = ((v[0], np.dot(v[1], search)) for v in out_vecs)\n",
    "    res_list = heapq.nlargest(limit, it, key=itemgetter(1))\n",
    "    return res_list"
   ]
  },
  {
   "cell_type": "code",
   "execution_count": 14,
   "metadata": {},
   "outputs": [
    {
     "data": {
      "application/vnd.jupyter.widget-view+json": {
       "model_id": "8787010312624c5b973a3ad6c800baed",
       "version_major": 2,
       "version_minor": 0
      },
      "text/plain": [
       "HBox(children=(IntProgress(value=0, max=14), HTML(value='')))"
      ]
     },
     "metadata": {},
     "output_type": "display_data"
    }
   ],
   "source": [
    "out_vecs = list(zip(out_names, get_sentence_vectors(out_names)))"
   ]
  },
  {
   "cell_type": "code",
   "execution_count": 15,
   "metadata": {},
   "outputs": [
    {
     "data": {
      "text/plain": [
       "(512,)"
      ]
     },
     "execution_count": 15,
     "metadata": {},
     "output_type": "execute_result"
    }
   ],
   "source": [
    "out_vecs[0][1].shape"
   ]
  },
  {
   "cell_type": "code",
   "execution_count": 16,
   "metadata": {},
   "outputs": [
    {
     "data": {
      "text/plain": [
       "('8 Kräuter', '\"DIE FEINE\" Geflügel-Fleischwurst')"
      ]
     },
     "execution_count": 16,
     "metadata": {},
     "output_type": "execute_result"
    }
   ],
   "source": [
    "in_names[0], out_names[0]"
   ]
  },
  {
   "cell_type": "code",
   "execution_count": null,
   "metadata": {},
   "outputs": [],
   "source": []
  },
  {
   "cell_type": "code",
   "execution_count": 17,
   "metadata": {},
   "outputs": [],
   "source": [
    "in_vecs = list(zip(in_names, get_sentence_vectors(in_names)))"
   ]
  },
  {
   "cell_type": "code",
   "execution_count": 18,
   "metadata": {
    "scrolled": true
   },
   "outputs": [
    {
     "name": "stdout",
     "output_type": "stream",
     "text": [
      "Zitrone  mit Schale -> ('Heiße Zitrone', 0.8756706)\n",
      "Butterkeks mit Schokolade -> ('Schokoladen Butterkeks', 0.9341165)\n",
      "Lamm - Karree -> ('Kohl - Roulade', 0.8137923)\n",
      "Kuvertüre und Liebesperlen -> ('Liebesperlen', 0.8599304)\n",
      "Blüten von der Ringelblume -> ('Ringelblumenblüten', 0.882388)\n",
      "Grapefruit \"Sweetie\" -> ('Pink Grapefruit-Apfel-Sweetie', 0.8001827)\n",
      "Fett für die Hände -> ('Körper Balance', 0.7117213)\n",
      "Hähnchen – -> ('Hähnchen', 0.7442771)\n",
      "Gelierpulver ohne Zucker z. B. Konfige -> ('Zucrinet Pulver, Süss, Zuckerersatz', 0.82039046)\n",
      "Frühlingszwiebel in feine Ringe geschnitten -> ('Brotaufstrich, Frühlingszwiebel-Schinken', 0.86105955)\n",
      "Crème fraîche mit Käuter -> ('Crème fraîche', 0.87767243)\n",
      "Streusüße -> ('Streusüße', 1.0000001)\n",
      "Vollrohrzucker -> ('Vollrohrzucker', 1.0)\n",
      "Baguette vom Vortag -> ('Bistro Baguette', 0.82806385)\n",
      "Schokolade 70% -> ('Schokolade 70%', 1.0)\n",
      "Sauce und Dips nach Geschmack -> ('Süß-Sauer Sauce', 0.77727664)\n",
      "Bratenfond -> ('Bratenspeck', 0.8664383)\n",
      "Chilipulver von Ubena -> ('Kabanossi Chili', 0.7779121)\n",
      "Banane für die Dekoration -> ('Bananen Osterhäschen, Banane', 0.7659259)\n",
      "Römersalat - Herzen -> ('Römersalat', 0.881518)\n",
      "Forellenfilet ohne Gräten -> ('Forellenfilets ohne Haut', 0.87961304)\n",
      "Kapuzinerkresse -> ('Gartenkresse', 0.9262408)\n",
      "Paprika - Mark -> ('Tomaten - Paprika Mark', 0.9186486)\n",
      "Knochen und Parüren von einem Wildschweinkamm -> ('Wildschwein rücken steak', 0.75877327)\n",
      "Reis à 125g -> (\"Salami à l'ail 150g\", 0.78711224)\n",
      "Butter . vegane -> ('Blätterteig vegan', 0.84455204)\n",
      "Whisky Bourbon -> ('Bourbon Vanille', 0.9128666)\n",
      "Haferflocken fein und grob 1:1 gemischt -> ('Haferflocken, zart, 100% Hafer', 0.8444834)\n",
      "Sauerkraut -> ('Sauerkraut', 1.0)\n",
      "Walnüsse optional -> ('Walnüsse', 0.775314)\n",
      "Skreifilet -> ('Rharbarberkompott', 0.8721826)\n",
      "Wakame -> ('Wakame', 1.0)\n",
      "Currypulver aus dem Afroshop -> ('Curry Powder', 0.80722475)\n",
      "Orangenscheibe zur Garnitur -> ('Orangen-Marmelade', 0.77700555)\n",
      "Ziegenfrischkäse  je -> ('Ziegenfrischkäse', 0.9834297)\n",
      "Ciabatta -Aufbackbrötchen -> ('Ciabattabrötchen', 0.8780498)\n",
      "Butter / ungehärtete Margarine -> ('Margarine, leicht', 0.83172977)\n",
      "Wildfleisch - Reh -> ('Hirschtrockenfleisch', 0.77222383)\n",
      "Trüffeljus -> ('Trüffelpralinen', 0.91868246)\n",
      "Hirschfleisch od. Reh -> ('Hirschsteak', 0.8479124)\n",
      "Löwenzahn -Blütenblätter -> ('Löwenzahn-Vonig', 0.8838675)\n",
      "Snack-Paprika -> ('Salami-Snack', 0.8755833)\n",
      "Fond  von den Spareribs -> ('Spareribs', 0.80608755)\n",
      "Peperoncini bzw. Chilischote -> ('Maccheroncini, Tomaten Sahne-Sauce', 0.843403)\n",
      "Roastbeef in feine Streifen geschnitten -> ('Roastbeef, Aufschnitt', 0.8260046)\n",
      "Bouillon pur Rind -> ('Bouillon Pur Rind', 0.9521593)\n",
      "Thunfisch  im eigenen Saft -> ('Thunfisch im eigenen Saft', 1.0)\n",
      "Sojajoghurt  mit Vanillegeschmack -> ('Soja Vanille Drink', 0.8527254)\n",
      "Blüten - Blätter -> ('Blütenpollen', 0.8957038)\n",
      "Äpfel - Ringe -> ('Apfel Ringe', 0.8954457)\n",
      "Marzipanrohmasse und -> ('Marzipanerie', 0.80821115)\n",
      "Dorade à ca. -> ('Recette méditerranéenne', 0.7294309)\n",
      "Vanille - -> ('Vanille', 0.88920957)\n",
      "Dressing für Salat -> ('Salat Dressing', 0.8640069)\n",
      "Porree feingehackt -> ('NOIR feinherb', 0.793658)\n",
      "Mehl für den Teig -> ('Backmehl', 0.8465183)\n",
      "Zitronensaft nach Belieben -> ('Zitronensaft', 0.8991443)\n",
      "Äpfel z. B. Elstar -> ('Äpfel', 0.7390494)\n",
      "Lachsfilet aus dem Mittelstück á ca. -> ('Meeresfrüchte Frutti di Mare, aus Wildfang mi...', 0.72863734)\n",
      "Mozzarella da bufala -> ('mozzarella bufala', 0.9697724)\n",
      "Chilisauce Süß-Sauer-Scharf-Sauce -> ('Cremige Chili-Sauce', 0.918406)\n",
      "Radieschenschoten -> ('Zuckerschoten', 0.89294547)\n",
      "Mayonnaise 25% -> ('Mayonnaise 25%', 0.99999994)\n",
      "Nüsse und Trockenfrüchte -> ('Nüsse und getrocknete Früchte', 0.89350796)\n",
      "Mozzarella  und -> ('Mozzarella', 0.901232)\n",
      "Dinkel - Brösel -> ('Dinkel - Walnuss-Brlis', 0.8530526)\n",
      "Kräuter der Povence -> ('Kräuter-Schinken', 0.7727103)\n",
      "Pfeffer - und Senfkörner -> ('Senfkörner', 0.8302288)\n",
      "Spitzkohl - Blätter -> ('Spitzkohl', 0.89729387)\n",
      "Gemüse chinesisches -> ('China Gemüse', 0.933577)\n",
      "Stangensellerie mit Blättern -> ('Stangensellerie', 0.8379746)\n",
      "Champagner - Schaum: -> ('Champagner', 0.7347609)\n",
      "Linsen mit Suppengemüse -> ('Linsensuppe mit buntem Gemüse', 0.9056531)\n",
      "Möhre und Zucchini -> ('Zucchini & Aubergine', 0.80273783)\n",
      "Lebensmittelfarbe in rot -> ('Back und Speisefarben', 0.76808435)\n",
      "Kalbfleisch ohne Knochen -> ('Kalbfleisch', 0.8817479)\n",
      "Fanta Wild Beeries -> ('Redds Beer', 0.79406506)\n",
      "Sauerhalbrahm -> ('Sauerrahm', 0.92483956)\n",
      "Götterspeise mit Waldmeistergeschmack -> ('Götterspeise, Waldmeister-Geschmack', 0.92045575)\n",
      "Paprika - Mix -> ('Paprika Mix', 0.86772233)\n",
      "Pesto genoveser Art -> ('Pesto alla genovese', 0.74313986)\n",
      "Tortenboden aus Mürbeteig -> ('Nussecken aus Mürbeteig', 0.8215381)\n",
      "Rinderfilet in sehr dünnen Scheiben -> ('Rindergulasch in pikanter Soße', 0.81193775)\n",
      "Himbeersaft -> ('Himbeer Muttersaft', 0.94304323)\n",
      "Acaipulver -> ('acaipulver', 0.9585397)\n",
      "Rindfleisch für Gulasch -> ('Rinder- Gulasch', 0.8570399)\n",
      "Mehl für die Arbeitsplatte und die Ausstechform -> ('Körnereck, zum Fertigbacken', 0.6847881)\n",
      "Pfannkuchen vom Vortag -> ('Pfannkuchen gesüßt', 0.8643273)\n",
      "Schnittlauch mit Blüte zur Deko -> ('Däumlinge mit Pfeffer', 0.7329776)\n",
      "Sprossen   Sprossen entsprechen der Menge aus ca.  getrockneten Linsen -> ('Linsentaler, Linsen Getreidebratlinge', 0.6247287)\n",
      "Kerbel  und Giersch -> ('Giersch', 0.76712525)\n",
      "Kapern mit Fond -> ('Fondor', 0.7386341)\n",
      "Knoblauch -Creme-Dip -> ('Knoblauch-Creme', 0.9273484)\n",
      "Süßstoff nach Bedarf -> ('Süßstoff granuliert', 0.8625542)\n",
      "Fertigmischung für Kartoffelknödel -> ('Kartoffelknödel, halb&halb verzehrfertig', 0.8617308)\n",
      "Rote Bete - Püree -> ('Schwarzrauch - Karree', 0.8140123)\n",
      "Wasser für den Reis -> ('Reiszeit', 0.79144686)\n",
      "Gemüse als Fracht für den Zug -> ('Gemüseschiffchen', 0.6838262)\n",
      "Tee und etwas Limettensaft -> ('Limettensaft, Limette', 0.77652067)\n",
      "Gewürzmischung Aglio -> ('Spicy Garlic', 0.77713156)\n"
     ]
    }
   ],
   "source": [
    "for ingredient, vec in random.sample(in_vecs, 100):\n",
    "    res_list = get_match(vec, out_vecs)\n",
    "    print(\"{} -> {}\".format(ingredient, res_list[0]))"
   ]
  },
  {
   "cell_type": "code",
   "execution_count": 19,
   "metadata": {
    "scrolled": true
   },
   "outputs": [
    {
     "data": {
      "text/plain": [
       "[('Kartoffeln', 1.0),\n",
       " ('Kartoffeln ', 1.0),\n",
       " ('Kartoffeln ganz', 0.8977796),\n",
       " ('Kartoffeln gekocht', 0.8963243),\n",
       " ('Kartoffelstock', 0.8959534),\n",
       " ('Kartoffeln, gegart', 0.8914453),\n",
       " ('Kartoffeln roh', 0.8905239),\n",
       " ('Kartoffeln gebacken', 0.8904908),\n",
       " ('Kartoffelscheiben', 0.8901619),\n",
       " ('Kartoffeln, ganz', 0.88885343),\n",
       " ('Kartoffeln suppe', 0.8838953),\n",
       " ('Ganze Kartoffeln', 0.88332707),\n",
       " ('Ganze Kartoffeln ', 0.88332707),\n",
       " ('Brat Kartoffeln ', 0.88277364),\n",
       " ('Kartoffel', 0.88085693),\n",
       " ('Kartoffelnudeln', 0.8792579),\n",
       " ('Kartoffelsticks', 0.87786144),\n",
       " ('Kartoffelsnack', 0.8732353),\n",
       " ('Gekochte Kartoffeln', 0.8718474),\n",
       " ('Kartoffelpree ', 0.87160146),\n",
       " ('Kartoffeln, roh', 0.8711822),\n",
       " ('geschälte Kartoffeln', 0.8708629),\n",
       " ('Kartoffel Sticks', 0.8684819),\n",
       " ('Kartoffeln mehlig', 0.86703193),\n",
       " ('Kartoffelklöße', 0.8620798),\n",
       " ('Kartoffelpürree', 0.86069757),\n",
       " ('Kartoffelpüree', 0.8605306),\n",
       " ('Kartoffelpüree ', 0.8605306),\n",
       " ('Kartoffel-Gemüse', 0.8604079),\n",
       " ('Kartoffelpürre ', 0.85896957)]"
      ]
     },
     "execution_count": 19,
     "metadata": {},
     "output_type": "execute_result"
    }
   ],
   "source": [
    "z = [inv for inv in in_vecs if inv[0] == 'Kartoffeln'][0]\n",
    "get_match(z[1], out_vecs)"
   ]
  },
  {
   "cell_type": "code",
   "execution_count": 20,
   "metadata": {},
   "outputs": [
    {
     "data": {
      "text/plain": [
       "[('Schalotten', 1.0000001),\n",
       " ('Sülze', 0.89274013),\n",
       " ('Ringlotten', 0.8788649),\n",
       " ('Schaschlik', 0.8767235),\n",
       " ('Selters', 0.87629676),\n",
       " ('Selchspeck', 0.87524664),\n",
       " ('Leberkse', 0.87103057),\n",
       " ('Hustelinchen', 0.86819935),\n",
       " ('Schwartenmagen', 0.86798453),\n",
       " ('Karlchen', 0.8628453),\n",
       " ('Maiskölbchen', 0.86279553),\n",
       " ('Grützwust', 0.8598486),\n",
       " ('Mürbchen ', 0.85951704),\n",
       " ('Maisecke', 0.85870075),\n",
       " ('Kersen', 0.85840064),\n",
       " ('Käsknacker', 0.858381),\n",
       " ('Cemen', 0.8576199),\n",
       " ('Lattich', 0.8575938),\n",
       " ('Hhnerfilet', 0.8569063),\n",
       " ('Ketschup', 0.85674757),\n",
       " ('Korneck', 0.85655665),\n",
       " ('Körnereck', 0.8554502),\n",
       " ('Krönchen', 0.85468316),\n",
       " ('Knoferl', 0.85430396),\n",
       " ('Landschinken', 0.85422593),\n",
       " ('Landschinken ', 0.85422593),\n",
       " ('Wicküler ', 0.85283446),\n",
       " ('Roggenbrtchen ', 0.8517979),\n",
       " ('Salchichn', 0.8514553),\n",
       " ('Rohschinken', 0.8509237)]"
      ]
     },
     "execution_count": 20,
     "metadata": {},
     "output_type": "execute_result"
    }
   ],
   "source": [
    "z = list(get_sentence_vectors([\"Schalotten\"]))[0]\n",
    "get_match(z, out_vecs, limit=30)"
   ]
  },
  {
   "cell_type": "code",
   "execution_count": 21,
   "metadata": {},
   "outputs": [
    {
     "data": {
      "text/plain": [
       "[('Salz', 1.0),\n",
       " ('Salzgurken', 0.9089097),\n",
       " ('Gut Salzig', 0.90342623),\n",
       " ('Salzbrezeln', 0.8880923),\n",
       " ('Salzgurken, salzig', 0.8686831),\n",
       " ('Salzmandeln', 0.8676863),\n",
       " ('Salzgurke', 0.86386824),\n",
       " ('Salzbrezeln, Salzig', 0.8605131),\n",
       " ('Salzbrezel', 0.8582727),\n",
       " ('Salz-Mandeln', 0.85328484),\n",
       " ('salzbrezel', 0.84165347),\n",
       " ('Salz, Jodsalz', 0.8251066),\n",
       " ('Salz-Diamanten', 0.82034075),\n",
       " ('Salzbutter', 0.81924367),\n",
       " ('Tafelsalz', 0.8182125),\n",
       " ('Salzdillgurken', 0.8158475),\n",
       " ('Jod Salz', 0.81424797),\n",
       " ('Salz flutes, Salz', 0.8119249),\n",
       " ('Meersalz', 0.811814),\n",
       " ('Blutdruck Salz', 0.8090307),\n",
       " ('Salz-Stangen', 0.80218107),\n",
       " ('smorbar gesalzen', 0.7952043),\n",
       " ('Chips Salz', 0.79345155),\n",
       " ('Salzstangerl', 0.7885661),\n",
       " ('Saltufo', 0.78672385),\n",
       " ('Salzstange ', 0.7866403),\n",
       " ('Salz Kräcker', 0.7803569),\n",
       " ('Corn, salz', 0.7801466),\n",
       " ('Salz Stangen', 0.7790837),\n",
       " ('Koblauch Salz', 0.7786817)]"
      ]
     },
     "execution_count": 21,
     "metadata": {},
     "output_type": "execute_result"
    }
   ],
   "source": [
    "z = list(get_sentence_vectors([normalize_ingredient(\"Salz\")]))[0]\n",
    "get_match(z, out_vecs, limit=30)"
   ]
  },
  {
   "cell_type": "code",
   "execution_count": 22,
   "metadata": {},
   "outputs": [
    {
     "data": {
      "text/plain": [
       "[('Möhre', 1.0),\n",
       " ('Mürbchen ', 0.86611366),\n",
       " ('Maisecke', 0.8569765),\n",
       " ('Mairübchen', 0.8499796),\n",
       " ('Cemen', 0.84976923),\n",
       " ('Hirsegrieß', 0.8468805),\n",
       " ('Hirsebllchen', 0.84569955),\n",
       " ('Korneck', 0.8455517),\n",
       " ('Schmelzkse', 0.83843553),\n",
       " ('Hirsebrei', 0.8378884),\n",
       " ('Hirse', 0.83783054),\n",
       " ('Möhrchen', 0.8373093),\n",
       " ('Kareespeck', 0.837133),\n",
       " ('Grützwust', 0.8362565),\n",
       " ('Hirse Griess', 0.83579063),\n",
       " ('Bergpfirsich', 0.83537793),\n",
       " ('Kümmelpärle', 0.83503175),\n",
       " ('Schalotten', 0.83413565),\n",
       " ('Kräcker', 0.83367187),\n",
       " ('Gutfried', 0.83342147),\n",
       " ('Körnereck', 0.8333955),\n",
       " ('Tafelkren', 0.8322475),\n",
       " ('Süssmais', 0.8322011),\n",
       " ('Karreespeck', 0.83199644),\n",
       " ('Karreespeck ', 0.83199644),\n",
       " ('Edelschinlen', 0.8316824),\n",
       " ('Rotbäckchen', 0.83162296),\n",
       " ('Schokostrudel', 0.83152306),\n",
       " ('Schokolinsen', 0.83025885),\n",
       " ('Krönchen', 0.83021057)]"
      ]
     },
     "execution_count": 22,
     "metadata": {},
     "output_type": "execute_result"
    }
   ],
   "source": [
    "z = list(get_sentence_vectors([normalize_ingredient(\"Möhre\")]))[0]\n",
    "get_match(z, out_vecs, limit=30)"
   ]
  },
  {
   "cell_type": "code",
   "execution_count": 23,
   "metadata": {
    "scrolled": true
   },
   "outputs": [
    {
     "data": {
      "text/plain": [
       "[('Zitronen Saft', 0.93052155),\n",
       " ('Zitronenrolle', 0.92803085),\n",
       " ('Zitronenwasser', 0.92116797),\n",
       " ('Zitronenschale', 0.9154556),\n",
       " ('Zitronencreme', 0.91466904),\n",
       " ('Zitronensaft', 0.91464496),\n",
       " ('Zitronensaft ', 0.91464496),\n",
       " ('Zitronenschaum', 0.91345096),\n",
       " ('Zitronen-Pesto', 0.906561),\n",
       " ('Zitronen limonade', 0.9027358),\n",
       " ('Zitronen T', 0.8955948),\n",
       " ('Zitronenmelisse', 0.8908546),\n",
       " ('Lemon', 0.8900281),\n",
       " ('Zitrone', 0.8861021),\n",
       " ('Zitronenlimonde', 0.88575715),\n",
       " ('Zitronenlimonade', 0.8841475),\n",
       " ('Zitronen-Häppchen', 0.87951857),\n",
       " ('Zitronensauce', 0.874436),\n",
       " ('Zitronen Aroma', 0.8718134),\n",
       " ('Zitronen Limonade', 0.8700224),\n",
       " ('Zitronen Limonade ', 0.8700224),\n",
       " ('Zitronet', 0.8680041),\n",
       " ('Zitronen T, Zitrone', 0.86615825),\n",
       " ('Zitronenzucker', 0.8657205),\n",
       " ('Zitronenwasser, Zitrone', 0.86054575),\n",
       " ('Zitronenkuchen', 0.8587698),\n",
       " ('Zitronen Kuchen', 0.8571212),\n",
       " ('Zitronenschalen', 0.8568182),\n",
       " ('Zitronenschalen ', 0.8568182),\n",
       " ('Zitronen-Rolle', 0.8536694)]"
      ]
     },
     "execution_count": 23,
     "metadata": {},
     "output_type": "execute_result"
    }
   ],
   "source": [
    "z = list(get_sentence_vectors([normalize_ingredient(\"Zitronen\")]))[0]\n",
    "get_match(z, out_vecs, limit=30)"
   ]
  },
  {
   "cell_type": "code",
   "execution_count": 24,
   "metadata": {},
   "outputs": [
    {
     "data": {
      "text/plain": [
       "[('Pfeffer', 1.0),\n",
       " ('Pfefferonen', 0.89296865),\n",
       " ('Pfefferminz', 0.8850076),\n",
       " ('Pfefferbreze', 0.8844123),\n",
       " ('Pfeffer Rolle', 0.8822749),\n",
       " ('Pfefferblock', 0.88045084),\n",
       " ('Pfeffer-Schinken', 0.8785044),\n",
       " ('Pfefferminze', 0.8713012),\n",
       " ('Pfeffer-Braten', 0.8676797),\n",
       " ('Pfefferbeiser', 0.8666811),\n",
       " ('Pfeffer-Beißer', 0.866335),\n",
       " ('Pfefferminztee', 0.8620248),\n",
       " ('Pfefferbeisser', 0.8613457),\n",
       " ('Pfeffersäckchen', 0.86078715),\n",
       " ('Pfefferbraten', 0.8570888),\n",
       " ('Bunter Pfeffer', 0.8531077),\n",
       " ('Pfeffer, weiß', 0.84696233),\n",
       " ('Pfefferkarree', 0.8463141),\n",
       " ('Pfeffer Braten', 0.8403899),\n",
       " ('Pfeffernüsse', 0.83831143),\n",
       " ('Pfeffer, schwarz', 0.83563584),\n",
       " ('Pfefferoni', 0.8356279),\n",
       " ('Pfefferbeißer', 0.8338611),\n",
       " ('Grüner Pfeffer', 0.8303262),\n",
       " ('Pfeffer Soße', 0.8280723),\n",
       " ('Pfefferonen, scharf', 0.824779),\n",
       " ('Paprikaschote', 0.82357407),\n",
       " ('Pfefferschinken', 0.8235053),\n",
       " ('Käse, Pfeffer', 0.81792927),\n",
       " ('Salz und Pfeffer', 0.81601393)]"
      ]
     },
     "execution_count": 24,
     "metadata": {},
     "output_type": "execute_result"
    }
   ],
   "source": [
    "z = list(get_sentence_vectors([normalize_ingredient(\"Pfeffer\")]))[0]\n",
    "get_match(z, out_vecs, limit=30)"
   ]
  },
  {
   "cell_type": "code",
   "execution_count": 25,
   "metadata": {},
   "outputs": [
    {
     "data": {
      "text/plain": [
       "[('Zucchini', 1.0),\n",
       " ('Zucchini ', 1.0),\n",
       " ('Zuchini', 0.96570617),\n",
       " ('Zucchini-Puffer', 0.95276517),\n",
       " ('Zucchini-Gratin', 0.9444525),\n",
       " ('Zucchini Pfanne', 0.9339043),\n",
       " ('Zucchini Quiche', 0.92734474),\n",
       " ('Zucchini, gegart', 0.9196474),\n",
       " ('Zucchini-Pfanne', 0.91940373),\n",
       " ('Zucchini-Reistopf', 0.9190987),\n",
       " ('Zucchini-Fritata', 0.91898525),\n",
       " ('Zucchinipuffer', 0.91596097),\n",
       " ('Zucchini gebraten', 0.907671),\n",
       " ('Gebackene Zucchini', 0.90149117),\n",
       " ('Zucchini Püree', 0.89597404),\n",
       " ('Currychini', 0.89119816),\n",
       " ('Zucchini-puffer', 0.88802767),\n",
       " ('Zucchinibrot', 0.88706577),\n",
       " ('Zucchini Auflauf', 0.8870287),\n",
       " ('Zucchini Cannelloni', 0.8869643),\n",
       " ('Papucchini', 0.88294375),\n",
       " ('Zucchini-Cheddar-Puffer', 0.8814348),\n",
       " ('Zucchini Mischung', 0.8783588),\n",
       " ('Crocchini', 0.87423605),\n",
       " ('Zuchini gegrillt', 0.8742033),\n",
       " ('Zucchini-Paprika-Ragu', 0.8666968),\n",
       " ('Gegrillte Zucchini', 0.86394763),\n",
       " ('Zucchini Brownie', 0.8617481),\n",
       " ('Zucchini-Gemüse-Pfanne', 0.8587595),\n",
       " ('Zucchini-Spaghetti', 0.85744786)]"
      ]
     },
     "execution_count": 25,
     "metadata": {},
     "output_type": "execute_result"
    }
   ],
   "source": [
    "z = list(get_sentence_vectors([normalize_ingredient(\"Zucchini\")]))[0]\n",
    "get_match(z, out_vecs, limit=30)"
   ]
  },
  {
   "cell_type": "code",
   "execution_count": 26,
   "metadata": {},
   "outputs": [
    {
     "data": {
      "text/plain": [
       "[('Paprikaschote', 1.0),\n",
       " ('Paprikaschoten', 0.98521674),\n",
       " ('Paprikagulasch', 0.95074636),\n",
       " ('Paprikasülze', 0.9479988),\n",
       " ('Paprika-Gulasch', 0.9312785),\n",
       " ('Paprikapastete', 0.9309404),\n",
       " ('Paprikastreifen', 0.9304859),\n",
       " ('Gefüllte Paprikaschote', 0.9249151),\n",
       " ('Paprikapulver', 0.92458856),\n",
       " ('Paprikacreme', 0.92321056),\n",
       " ('Paprikagemüse', 0.9231436),\n",
       " ('Paprikaknacker', 0.9185246),\n",
       " ('Paprikasalat', 0.9125063),\n",
       " ('Paprika Edelsüss', 0.9123241),\n",
       " ('Rote Paprikaschoten', 0.9121383),\n",
       " ('Paprikamark', 0.91010225),\n",
       " ('Paprikareis', 0.90830344),\n",
       " ('Paprika-Mandel-Dip', 0.907791),\n",
       " ('Paprika-Bruscetta', 0.9065238),\n",
       " ('Paprikasoße', 0.9050808),\n",
       " ('Paprika-Lyoner', 0.9030753),\n",
       " ('Eingelegte Paprika', 0.9006094),\n",
       " ('Paprikasticks', 0.8994634),\n",
       " ('Paprika-Chili', 0.8991807),\n",
       " ('Paprikasuppe', 0.8970112),\n",
       " ('Chilischote', 0.89657897),\n",
       " ('Paprika Quark', 0.8945436),\n",
       " ('Geräucherte Paprika', 0.8937135),\n",
       " ('Paprika Snackis', 0.8935468),\n",
       " ('Gefüllte Paprika', 0.89313024)]"
      ]
     },
     "execution_count": 26,
     "metadata": {},
     "output_type": "execute_result"
    }
   ],
   "source": [
    "z = list(get_sentence_vectors([normalize_ingredient(\"Paprikaschote\")]))[0]\n",
    "get_match(z, out_vecs, limit=30)"
   ]
  },
  {
   "cell_type": "code",
   "execution_count": 27,
   "metadata": {},
   "outputs": [
    {
     "data": {
      "text/plain": [
       "[('Zucker', 1.0),\n",
       " ('Gelier Zucker', 0.9193796),\n",
       " ('Gelier Zucker ', 0.9193796),\n",
       " ('Zuckerbrezel', 0.8992934),\n",
       " ('Fein Zucker', 0.88426435),\n",
       " ('Südzucker', 0.8819196),\n",
       " ('Zucker-Streusel', 0.88142365),\n",
       " ('Fruchtzucker', 0.87839866),\n",
       " ('Milchzucker', 0.8741473),\n",
       " ('Palmzucker', 0.8740871),\n",
       " ('Brauner Zucker', 0.8705967),\n",
       " ('Traubenzucker', 0.8682995),\n",
       " ('Traubenzucker ', 0.8682995),\n",
       " ('Gelierzucker', 0.8656156),\n",
       " ('Zuckermais', 0.8652842),\n",
       " ('Zuckerkarotten', 0.8642814),\n",
       " ('Feiner Zucker', 0.86407745),\n",
       " ('Zuckerschoten', 0.8623195),\n",
       " ('Backzucker', 0.8618116),\n",
       " ('Feinzucker', 0.8606885),\n",
       " ('Süßstoff', 0.86012936),\n",
       " ('Rohrzucker', 0.85917187),\n",
       " ('Zitronenzucker', 0.8589246),\n",
       " ('Süßstoff, Zucker', 0.8552715),\n",
       " ('Zucker Sticks', 0.85480726),\n",
       " ('Puderzucker', 0.8527151),\n",
       " ('Puderzucker ', 0.8527151),\n",
       " ('Zuckerstange', 0.8474887),\n",
       " ('Kandiszucker', 0.8458616),\n",
       " ('Zuckerfrei Bonbon', 0.8427986)]"
      ]
     },
     "execution_count": 27,
     "metadata": {},
     "output_type": "execute_result"
    }
   ],
   "source": [
    "z = list(get_sentence_vectors([normalize_ingredient(\"Zucker\")]))[0]\n",
    "get_match(z, out_vecs, limit=30)"
   ]
  },
  {
   "cell_type": "code",
   "execution_count": 28,
   "metadata": {},
   "outputs": [
    {
     "data": {
      "text/plain": [
       "[('Knoblauch', 0.99999994),\n",
       " ('Knoblauchgurken', 0.95750296),\n",
       " ('Knoblauchgurken ', 0.95750296),\n",
       " ('Knoblauchzehe', 0.9545716),\n",
       " ('Knoblauchspeck', 0.95325136),\n",
       " ('Knoblauchpüree', 0.9460995),\n",
       " ('Knoblauchschmalz', 0.9424915),\n",
       " ('Knoblauchecken', 0.9382149),\n",
       " ('Knoblauchsauce', 0.92497635),\n",
       " ('Knoblauchcreme', 0.9173736),\n",
       " ('Knoblauchcreme ', 0.9173736),\n",
       " ('Knoblauchbraten', 0.91436255),\n",
       " ('Knoblauch, getrocknet', 0.90933293),\n",
       " ('Knoblauchbutter', 0.908661),\n",
       " ('Knoblauchsoße', 0.90854347),\n",
       " ('Knoblauch Braten', 0.90431464),\n",
       " ('Knoblauch  sauce', 0.9030088),\n",
       " ('Knoblauch sauce', 0.9030088),\n",
       " ('Knoblauch-Baguette', 0.9024809),\n",
       " ('Knoblauchkick', 0.90135205),\n",
       " ('Knoblauchsalami', 0.90005994),\n",
       " ('Knoblauch-Creme', 0.8973919),\n",
       " ('Knoblauchsuppe', 0.8959118),\n",
       " ('Knoblauch Senf', 0.89517677),\n",
       " ('Knoblauch Pulver', 0.89178085),\n",
       " ('Knoblauchbeißer', 0.8914833),\n",
       " ('Knoblauch, frisch', 0.8905187),\n",
       " ('Knoblauchbaguette', 0.888514),\n",
       " ('Knoblauch Dressing', 0.88626623),\n",
       " ('Knoblauchecken, Knoblauch', 0.8857073)]"
      ]
     },
     "execution_count": 28,
     "metadata": {},
     "output_type": "execute_result"
    }
   ],
   "source": [
    "z = list(get_sentence_vectors([normalize_ingredient(\"Knoblauch\")]))[0]\n",
    "get_match(z, out_vecs, limit=30)"
   ]
  },
  {
   "cell_type": "code",
   "execution_count": 29,
   "metadata": {},
   "outputs": [
    {
     "data": {
      "application/vnd.jupyter.widget-view+json": {
       "model_id": "d2f4f267c75e403d83c0f5a8c2539c84",
       "version_major": 2,
       "version_minor": 0
      },
      "text/plain": [
       "HBox(children=(IntProgress(value=0, max=21410), HTML(value='')))"
      ]
     },
     "metadata": {},
     "output_type": "display_data"
    }
   ],
   "source": [
    "# i thought multiprocessing is impossible in jupyter notebook?\n",
    "# better not question it\n",
    "from multiprocessing import Pool\n",
    "\n",
    "def jsonable(e):\n",
    "    return [(a,float(b)) for a, b in e]\n",
    "\n",
    "def get_match_w(t):\n",
    "    ing, vec = t\n",
    "    return ing, get_match(vec, out_vecs)\n",
    "\n",
    "all_ings = {}\n",
    "with Pool(8) as pool:\n",
    "    for ing, match in pool.imap(get_match_w, tqdm(in_vecs), chunksize=100):\n",
    "        all_ings[ing] = jsonable(match)"
   ]
  },
  {
   "cell_type": "code",
   "execution_count": null,
   "metadata": {},
   "outputs": [],
   "source": []
  },
  {
   "cell_type": "code",
   "execution_count": 30,
   "metadata": {},
   "outputs": [],
   "source": [
    "\n",
    "all_ings_orig = {ing: all_ings[normalize_ingredient(ing)] for ing in _in_names}"
   ]
  },
  {
   "cell_type": "code",
   "execution_count": 31,
   "metadata": {},
   "outputs": [],
   "source": [
    "with open(\"data/recipe-ingredient-to-fooddb.json\", \"w\") as f:\n",
    "    json.dump(all_ings_orig, f)"
   ]
  },
  {
   "cell_type": "code",
   "execution_count": null,
   "metadata": {},
   "outputs": [],
   "source": []
  }
 ],
 "metadata": {
  "kernelspec": {
   "display_name": "Python 3",
   "language": "python",
   "name": "python3"
  },
  "language_info": {
   "codemirror_mode": {
    "name": "ipython",
    "version": 3
   },
   "file_extension": ".py",
   "mimetype": "text/x-python",
   "name": "python",
   "nbconvert_exporter": "python",
   "pygments_lexer": "ipython3",
   "version": "3.5.2"
  }
 },
 "nbformat": 4,
 "nbformat_minor": 2
}
