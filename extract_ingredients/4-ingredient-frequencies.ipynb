{
 "cells": [
  {
   "cell_type": "code",
   "execution_count": 1,
   "metadata": {},
   "outputs": [
    {
     "name": "stdout",
     "output_type": "stream",
     "text": [
      "/tf/notebooks\n"
     ]
    }
   ],
   "source": [
    "%cd .."
   ]
  },
  {
   "cell_type": "code",
   "execution_count": 2,
   "metadata": {},
   "outputs": [
    {
     "name": "stdout",
     "output_type": "stream",
     "text": [
      "Requirement already satisfied: ijson in /usr/local/lib/python3.5/dist-packages (2.4)\n",
      "\u001b[33mYou are using pip version 18.1, however version 19.1.1 is available.\n",
      "You should consider upgrading via the 'pip install --upgrade pip' command.\u001b[0m\n"
     ]
    }
   ],
   "source": [
    "!pip install ijson"
   ]
  },
  {
   "cell_type": "code",
   "execution_count": 3,
   "metadata": {},
   "outputs": [],
   "source": [
    "import ijson\n",
    "from tqdm import tqdm_notebook as tqdm"
   ]
  },
  {
   "cell_type": "code",
   "execution_count": 4,
   "metadata": {},
   "outputs": [],
   "source": [
    "import json"
   ]
  },
  {
   "cell_type": "code",
   "execution_count": 5,
   "metadata": {},
   "outputs": [
    {
     "data": {
      "application/vnd.jupyter.widget-view+json": {
       "model_id": "069b17d974e046e0a986267fb342779a",
       "version_major": 2,
       "version_minor": 0
      },
      "text/plain": [
       "HBox(children=(IntProgress(value=1, bar_style='info', max=1), HTML(value='')))"
      ]
     },
     "metadata": {},
     "output_type": "display_data"
    },
    {
     "name": "stdout",
     "output_type": "stream",
     "text": [
      "\n"
     ]
    }
   ],
   "source": [
    "ingredients = []\n",
    "with open(\"data/recipes/recipes_matched.jsonl\", encoding='utf-8') as f:\n",
    "    for line in tqdm(f):\n",
    "        recipe = json.loads(line)\n",
    "        ingredients += [ingredient for ingredient in recipe[\"ingredients\"] if ingredient[\"type\"] == \"ingredient\" and ingredient[\"matched\"][\"matched\"]]"
   ]
  },
  {
   "cell_type": "code",
   "execution_count": 6,
   "metadata": {},
   "outputs": [
    {
     "data": {
      "application/vnd.jupyter.widget-view+json": {
       "model_id": "000940d5a4634bc1b0bde19979e0c70d",
       "version_major": 2,
       "version_minor": 0
      },
      "text/plain": [
       "HBox(children=(IntProgress(value=0, max=1619974), HTML(value='')))"
      ]
     },
     "metadata": {},
     "output_type": "display_data"
    },
    {
     "name": "stdout",
     "output_type": "stream",
     "text": [
      "\n"
     ]
    }
   ],
   "source": [
    "from collections import defaultdict, Counter\n",
    "orig_frequencies = defaultdict(Counter)\n",
    "frequencies = Counter()\n",
    "ings = {}\n",
    "for ingredient in tqdm(ingredients):\n",
    "    orig_text = ingredient[\"original\"][\"ingredient\"]\n",
    "    mid = ingredient[\"matched\"][\"id\"]\n",
    "    frequencies.update([mid])\n",
    "    ings[mid] = ingredient[\"matched\"]\n",
    "    orig_frequencies[mid].update([orig_text])"
   ]
  },
  {
   "cell_type": "code",
   "execution_count": 11,
   "metadata": {
    "scrolled": true
   },
   "outputs": [
    {
     "name": "stdout",
     "output_type": "stream",
     "text": [
      "   119244x  Salz ['Salz', 'Salz und Pfeffer', 'Salz und Pfeffer aus der Mühle', 'Salz und Pfeffer, aus der Mühle', 'Salz und Pfeffer, weißer']\n",
      "    59066x  Zucker ['Zucker', 'Zucker, braun', 'Zucker, brauner', 'Zucker, weiß', 'Zucker, feiner']\n",
      "    58185x  Ei, von der Gans / Gänseei ['Ei(er)', 'Ei(er), getrennt', 'Ei(er), hart gekocht', 'Ei(er), Größe M', 'Ei(er), davon das Eigelb']\n",
      "    46069x  Mehl ['Mehl', 'Mehl (Weizenmehl)', 'Mehl, gesiebt', 'Mehl, Type 405', 'Mehl, glattes']\n",
      "    45891x  Butter, streichfein, gesalzen ['Butter', 'Butter, weiche', 'Butter, weich', 'Butter oder Margarine', 'Butter, zerlassen']\n",
      "    41206x  Rote Zwiebel, frisch ['Zwiebel(n)', 'Zwiebel(n), rot', 'Zwiebel(n), gewürfelt', 'Zwiebel(n), gehackt', 'Zwiebel(n), fein gehackt']\n",
      "    24531x  Milch, laktosefrei (3,8 %) ['Milch', 'Milch, lauwarm', 'Milch, lauwarme', 'Milch, fettarme', 'Milch, fettarm']\n",
      "    24011x  Vanillezucker ['Vanillezucker', 'Vanillinzucker', 'Vanillezucker, Bourbon-', 'Vanillezucker (Bourbon)', 'Vanillezucker (Bourbon-Vanillezucker)']\n",
      "    23476x  Zucker ['Zucker', 'Zucker, braun', 'Zucker, brauner', 'Zucker, weiß', 'Zucker oder Honig']\n",
      "    22822x  Öl, Knoblauch ['Öl', 'Öl, neutrales', 'Öl (Sonnenblumenöl)', 'Öl (Olivenöl)', 'Öl zum Braten']\n",
      "    22781x  Paprika, orange ['Paprikaschote(n), rot', 'Paprikaschote(n)', 'Chilischote(n)', 'Paprikaschote(n), rote', 'Paprikaschote(n), gelb']\n",
      "    21348x  Knoblauch, Pikant eingelegt  ['Knoblauchzehe(n)', 'Knoblauch', 'Knoblauchzehe(n), fein gehackt', 'Knoblauchzehe(n), gehackt', 'Knoblauchzehe(n), gepresst']\n",
      "    20359x  Wasser, ohne Kohlensäure, Pfirsich ['Wasser', 'Wasser, lauwarm', 'Wasser, lauwarmes', 'Wasser, warmes', 'Wasser, heißes']\n",
      "    19935x  Knoblauch, frisch ['Knoblauch', 'Knoblauch, fein gehackt', 'Knoblauch, gepresst', 'Knoblauch, gehackt', 'Knoblauch, zerdrückt']\n",
      "    19336x  Pfefferbreze ['Pfeffer', 'Pfeffer, aus der Mühle', 'Pfeffer, frisch gemahlen', 'Pfeffer, schwarzer', 'Pfeffer, weißer']\n",
      "    18928x  Olivenöl, fruchtig scharf ['Olivenöl', 'Olivenöl, extra vergine', 'Olivenöl, nativ', 'Olivenöl, gutes', 'Olivenöl, natives']\n",
      "    15966x  Backpulver ['Backpulver', 'Chilipulver', 'Ingwerpulver', 'Nelkenpulver', 'Knoblauchpulver']\n",
      "    15039x  Sahne ['Sahne', 'saure Sahne', 'Sahne oder Cremefine', 'Sahne oder Milch', 'Sahne, geschlagen']\n",
      "    14751x  Zitrone, frisch ['Zitrone(n)', 'Zitrone(n), Saft davon', 'Zitrone(n), den Saft davon', 'Zitrone(n), unbehandelt', 'Zitrone(n), den Saft']\n",
      "    13077x  Paprikapulver ['Paprikapulver', 'Paprikapulver, edelsüß', 'Chilipulver', 'Currypulver', 'Paprikapulver, rosenscharf']\n",
      "    12487x  Gemüsebrühe, hefefrei, pflanzlich ['Gemüsebrühe', 'Gemüsebrühe, instant', 'Gemüsebrühe oder Fleischbrühe', 'Gemüsebrühe, kräftige', 'Gemüsebrühe oder Hühnerbrühe']\n",
      "    12136x  Backpulver ['Backpulver', 'Cremepulver (Paradiescreme Vanille)', 'Kümmelpulver', 'Saucenpulver, Vanille', 'Saucenpulver (Vanille)']\n",
      "    11960x  Käse ['Käse, gerieben', 'Käse, geriebener', 'Käse (Emmentaler), gerieben', 'Käse (Gouda), gerieben', 'Käse (Gouda)']\n",
      "    11673x  Kartoffelpree , Monsieur Cuisine Plus ['Kartoffel(n)', 'Kartoffel(n), festkochend', 'Kartoffel(n), mehlig kochend', 'Kartoffel(n), mehlig kochende', 'Kartoffel(n), fest kochende']\n",
      "    10926x  Eigelb, vom Huhn ['Eigelb', 'Eigelb zum Bestreichen', 'Eigelb, zum Bestreichen', 'Eigelb, Größe M', 'Eigelb, verquirlt']\n",
      "    10780x  Butter, Durchschnittswert ['Butter', 'Butter oder Margarine', 'Butter, weiche', 'Butter, zerlassen', 'Butter, weich']\n",
      "     9591x  Puderzucker ['Puderzucker', 'Puderzucker, gesiebt', 'Puderzucker (Staubzucker)', 'Puderzucker, gesiebter', 'Puderzucker, zum Bestäuben']\n",
      "     9439x  Petersilie, frisch ['Petersilie', 'Basilikum', 'Petersilie, glatte', 'Petersilie, gehackt', 'Petersilie, glatt']\n",
      "     8708x  Zucchini, grün, frisch ['Zucchini', 'Zucchini, gewürfelt', 'Zucchini, in Scheiben geschnitten', 'Zucchini, geraspelt', 'Zucchini, grün']\n",
      "     8630x  Öl ['Öl', 'Öl zum Braten', 'Öl, zum Braten', 'Öl, zum Anbraten', 'Öl zum Anbraten']\n",
      "     8293x  Mehl, Weizenmehl Typ 405 ['Mehl', 'Grieß', 'Brühe, gekörnte', 'Brühe', 'Mehl, gehäuft']\n",
      "     8122x  Karotten / Möhren, frisch ['Karotte(n)', 'Möhre(n)', 'Schalotte(n)', 'Karotte(n), gewürfelt', 'Karotte(n), in Scheiben geschnitten']\n",
      "     7991x  Mandel, Big-Salz ['Mandel(n), gemahlen', 'Mandel(n), gemahlene', 'Mandel(n), gehackt', 'Mandel(n)', 'Mandel(n), gehackte']\n",
      "     7726x  Karotten / Möhren, gekocht ['Möhre(n)', 'Möhre(n), gewürfelt', 'Möhre(n), geraspelt', 'Möhre(n), fein geraspelt', 'Möhre(n), in Scheiben geschnitten']\n",
      "     7582x  Zwiebel, frisch ['Zwiebel(n)', 'Zwiebel(n), gewürfelt', 'Zwiebel(n), rot', 'Zwiebel(n), gehackt', 'Zwiebel(n), fein gehackt']\n",
      "     7573x  Schokolade, Zartbitter mit 60% Kakao, 20% Haselnüs... ['Schokolade, zartbitter', 'Schokolade, weiße', 'Schokolade', 'Schokolade, weiß', 'Schokolade, Vollmilch']\n",
      "     7542x  Zitronensaft ['Zitronensaft', 'Zitronensaft, frisch gepresst', 'Zitronensaft, frisch', 'Zitronensaft oder Limettensaft', 'Zitronensaft, frisch gepresster']\n",
      "     7457x  Crème fraîche ['Crème fraîche', 'Crème fraîche oder Schmand', 'Crème fraîche, mit Kräutern', 'Crème double', 'Crème fraîche oder saure Sahne']\n",
      "     7186x  Tomatenmark, 3-fach konzentriert ['Tomatenmark', 'Tomatenmark, 3-fach konzentriert', 'Tomatenmark, dreifach konzentriert', 'Tomatenmark, scharf', 'Tomatenmark oder Ketchup']\n",
      "     7182x  Hackfleisch, gemischt vom Rind und Schwein ['Hackfleisch, gemischt', 'Hackfleisch', 'Hackfleisch, gemischtes', 'Hackfleisch, vom Rind', 'Hackfleisch, halb und halb']\n",
      "     6892x  Quark , Mager ['Quark', 'Quark (Magerquark)', 'Quark, Magerstufe', 'Quark (Topfen)', 'Quark, (Magerquark)']\n",
      "     6840x  Champignons, 3.Wahl, geschnitten ['Champignons', 'Champignons, frische', 'Champignons, braun', 'Champignons, braune', 'Champignons, frisch']\n",
      "     6516x  Schalotte, frisch ['Schalotte(n)', 'Schnittlauch', 'Schalotte(n), fein gewürfelt', 'Schalotte(n), fein gehackt', 'Schalotte(n), gewürfelt']\n",
      "     6382x  Nudeln ['Nudeln', 'Nudeln (Spaghetti)', 'Nudeln (Makkaroni)', 'Nudeln (Spirelli)', 'Nudeln (Tagliatelle)']\n",
      "     6142x  Tomate, Mozzarella & Pesto (Wrap) ['Tomate(n)', 'Tomate(n), passierte', 'Tomate(n), getrocknete', 'Tomate(n), passiert', 'Tomate(n), getrocknete in Öl']\n",
      "     5926x  Kakaopulver ['Kakaopulver', 'Kakao', 'Backpulver', 'Kakaopulver, ungesüßt', 'Chilipulver']\n",
      "     5910x  Olivenöl ['Olivenöl', 'Olivenöl zum Braten', 'Olivenöl, zum Braten', 'Olivenöl, zum Anbraten', 'Olivenöl zum Anbraten']\n",
      "     5809x  Apfel, roh ['Äpfel', 'Apfel', 'Äpfel, säuerliche', 'Apfel, säuerlich', 'Äpfel, säuerlich']\n",
      "     5796x  Margarine ['Margarine', 'Margarine oder Butter', 'Margarine, weiche', 'Margarine, weich', 'Margarine, oder Butter']\n",
      "     5329x  Saure Sahne ['Sahne', 'Sahne, geschlagen', 'Sahne, geschlagene', 'Sahne, steif geschlagen', 'Sahne oder Cremefine']\n",
      "     5153x  Senf, mittelscharf ['Senf', 'Senf, mittelscharf', 'Senf, mittelscharfer', 'Senfkörner', 'Senf, scharfer']\n",
      "     5128x  Eiweißknäcke ['Eiweiß', 'Eiweiß, steif geschlagen', 'Eiweiß, zu Schnee geschlagen', 'Eiweiß, geschlagen', 'Eiweiß zum Bestreichen']\n",
      "     5033x  Honig ['Honig', 'Honig, flüssiger', 'Honig, flüssig', 'Honig (Akazienhonig)', 'Honig, (Akazienhonig)']\n",
      "     5024x  Schlagsahne ['Schlagsahne', 'Schlagsahne, kalte', 'Schlagsahne, (Obers)', 'Schlagsahne, steif geschlagen', 'Schlagsahne (Schlagobers)']\n",
      "     5020x  Sahne ['Sahne', 'Sahne, ca. 200 g', 'Sahne, 200 g', 'Sahne oder Cremefine', 'Sahne, geschlagen']\n",
      "     4992x  Essig ['Essig', 'Essig (Weißweinessig)', 'Essig (Weinessig)', 'Essig (Rotweinessig)', 'Essig, (Weißweinessig)']\n",
      "     4970x  Weißweinessig ['Weißwein', 'Weißwein, trocken', 'Weißwein, trockener', 'Weißweinessig', 'Weißwein, halbtrocken']\n",
      "     4945x  Parmesan, Parmigiano Reggiano, Lovilio ['Parmesan', 'Parmesan, gerieben', 'Parmesan, frisch gerieben', 'Parmesan, geriebener', 'Parmesan, frisch geriebener']\n",
      "     4799x  Haselnüsse  ['Haselnüsse, gemahlen', 'Haselnüsse, gemahlene', 'Haselnüsse', 'Haselnüsse, gehackt', 'Haselnüsse, gerieben']\n",
      "     4671x  Soja Sauce ['Sojasauce', 'Sojasauce, helle', 'Sojasauce, hell', 'Sojasauce, dunkle', 'Sojasauce, dunkel']\n",
      "     4643x  Ei, vom Huhn ['Ei(er)', 'Ei(er), getrennt', 'Ei(er), hart gekocht', 'Ei(er), verquirlt', 'Ei(er), Größe M']\n",
      "     4625x  Joghurt, Zitrone Ingwer ['Joghurt', 'Joghurt, griechischer', 'Joghurt, fettarmer', 'Joghurt, fettarm', 'Joghurt (Vollmilchjoghurt)']\n",
      "     4621x  Speisestärke ['Speisestärke', 'Speisestärke (Mondamin)', 'Speisestärke (Maizena)', 'Speisestärke, (Mondamin)', 'Speisestärke, feine']\n",
      "     4616x  Gemüsebrühepulver, Hefefrei ['Currypulver', 'Gemüsebrühe, instant', 'Gemüsebrühe', 'Korianderpulver', 'Gemüsebrühe, gekörnte']\n",
      "     4615x  Frischkäse, Frei von, laktosefrei ['Frischkäse', 'Frischkäse, natur', 'Frischkäse, körniger', 'Frischkäse, zimmerwarm', 'Frischkäse, light']\n",
      "     4595x  Speck ['Speck', 'Speck, gewürfelt', 'Speck, durchwachsen', 'Speck, durchwachsener', 'Speck, geräuchert']\n",
      "     4573x  Puddingpulver, Vanille-Geschmack ['Puddingpulver, Vanille', 'Puddingpulver (Vanille)', 'Puddingpulver (Vanillegeschmack)', 'Puddingpulver, Vanillegeschmack', 'Puddingpulver, Vanille-']\n",
      "     4559x  Senf, süß-pikant ['Senf', 'Senf, mittelscharf', 'Senf, mittelscharfer', 'Senfkörner', 'Senf, scharfer']\n",
      "     4284x  Palmzucker ['Puderzucker', 'Puderzucker zum Bestäuben', 'Puderzucker, zum Bestäuben', 'Vanillezucker', 'Puderzucker, zum Bestreuen']\n",
      "     4273x  Weizenmehl, Type 550 ['Weizenmehl', 'Weizenmehl, Type 550', 'Weizenmehl (Vollkorn-)', 'Weizenmehl, Type 405', 'Weizenmehl, 550']\n",
      "     4268x  Kandiszucker, weiß ['Puderzucker', 'Vanillezucker', 'Rohrzucker', 'Zuckerrübensirup', 'Rohrohrzucker']\n",
      "     4232x  Kartoffeln, gegart, ohne Schale ['Kartoffel(n)', 'Kartoffel(n), festkochend', 'Kartoffel(n), gekocht', 'Kartoffel(n), gewürfelt', 'Kartoffel(n), mehlig kochend']\n",
      "     4199x  Rote Banane ['Banane(n)', 'Banane(n), reife', 'Banane(n), reif', 'Banane(n), sehr reif', 'Banane(n), in Scheiben geschnitten']\n",
      "     4113x  Butterzeug, Engelsaugen ['Butter', 'Butter, für die Form', 'Butter zum Braten', 'Butter, zum Braten', 'Butter, zum Einfetten']\n",
      "     4035x  Zwiebel ['Zwiebel(n)', 'Zwiebel(n), gewürfelt', 'Zwiebel(n), rot', 'Zwiebel(n), gehackt', 'Zwiebel(n), fein gewürfelt']\n",
      "     3978x  Balsamico ['Balsamico', 'Balsamico, weiß', 'Balsamico, weißer', 'Balsamico bianco', 'Balsamico, heller']\n",
      "     3969x  Gewürzgurke ['Gewürznelke(n)', 'Gewürzgurke(n)', 'Gewürz(e)', 'Gewürzmischung (Chinagewürz)', 'Essiggurke(n)']\n",
      "     3937x  Schinken ['Schinken, gekochter', 'Schinken, gewürfelt', 'Schinken', 'Schinken, gekocht', 'Schinken, roher']\n",
      "     3882x  Vanilleeis, Mandel ['Vanilleschote(n)', 'Vanilleschote(n), das Mark davon', 'Vanilleschote(n), davon das Mark', 'Vanilleschote(n), das Mark', 'Vanilleschote(n), ausgekratztes Mark']\n",
      "     3877x  Schlagsahne, wärmebehandelt, mind. 32% Fett ['Schlagsahne', 'Schlagsahne, (Obers)', 'Kochsahne', 'Schlagsahne (Obers)', 'Schlagsahne (Schlagobers)']\n",
      "     3869x  Magerquark ['Magerquark', 'Magerquark (Topfen)', 'Magerquark (Magertopfen)', 'Magerquark, 20 % Fett', 'Magerquark, (Topfen)']\n",
      "     3846x  Hefe, Bio ['Hefe', 'Hefe, frische', 'Hefe, frisch', 'Hefe (Trockenhefe)', 'Hefe (Germ)']\n",
      "     3846x  Limettensaft ['Zitronensaft', 'Limettensaft', 'Limonensaft', 'Limettensaft, frisch gepresst', 'Zitronensaft, frisch gepresst']\n",
      "     3760x  Erdbeeren, leicht gezuckert ['Erdbeeren', 'Erdbeeren, frische', 'Erdbeeren, frisch', 'Erdbeeren, TK', 'Erdbeeren, geputzt']\n",
      "     3578x  Rinderbrühe, mit zartem Rindfleisch ['Fleischbrühe', 'Rinderbrühe', 'Fleischbrühe oder Gemüsebrühe', 'Fleischbrühe, heiße', 'Fleischbrühe, instant']\n",
      "     3574x  Silberzwiebeln, mit einer Zuckerart und Süßungsmit... ['Frühlingszwiebel(n)', 'Frühlingszwiebel(n), in Ringe geschnitten', 'Frühlingszwiebel(n), fein gehackt', 'Frühlingszwiebel(n), gehackt', 'Frühlingszwiebel(n), in feine Ringe geschnitten']\n",
      "     3540x  Klare Brühe ['Brühe', 'Brühe, klare', 'Brühe, instant', 'Brühe, Instant', 'Brühe, heiße']\n",
      "     3175x  Wein, Rose ['Wein, weiß', 'Wein, rot', 'Wein, weiß, trocken', 'Wein, rot, trocken', 'Wein']\n",
      "     3168x  Gelatine ['Gelatine', 'Gelatine, weiße', 'Gelatine, weiß', 'Gelatine, rote', 'Gelatine, rot']\n",
      "     3156x  Kuvertüre, Vollmich ['Kuvertüre, zartbitter', 'Kuvertüre, weiße', 'Kuvertüre', 'Kuvertüre, Vollmilch', 'Kuvertüre, weiß']\n",
      "     3137x  Zitronenrolle ['Zitronensaft', 'Zitronenpfeffer', 'Zitronenmelisse', 'Zitronenschale', 'Zitronenabrieb']\n",
      "     3060x  Walnüsse ['Walnüsse', 'Walnüsse, gehackt', 'Walnüsse, gemahlen', 'Walnüsse, grob gehackt', 'Walnüsse, gehackte']\n",
      "     3041x  Limette, frisch ['Limette(n)', 'Limette(n), Saft davon', 'Limette(n), den Saft davon', 'Limette(n), unbehandelt', 'Limone(n)']\n",
      "     3036x  Reis, Naturreis ['Reis', 'Reis (Langkornreis)', 'Reis (Risottoreis)', 'Reis, (Langkornreis)', 'Reis, (Risottoreis)']\n",
      "     3035x  Kloßteig, Thüringer Art ['Sahnesteif', 'Kloßteig', 'Sahnesteif, evtl.', 'Sahnesteif, optional', 'Kloßteig, halb und halb']\n",
      "     2982x  Schmand, 30% Fett ['Schmand', 'Schmand oder saure Sahne', 'Schmand oder Crème fraîche', 'Schmand oder Creme fraiche', 'Schmand, oder saure Sahne']\n",
      "     2845x  Olivenöl , olyssos ['Olivenöl', 'Olivenöl, gutes', 'Olivenöl, extra vergine', 'Olivenöl, natives', 'Olivenöl, nativ']\n",
      "     2815x  Apfelsine ['Äpfel', 'Äpfel, säuerliche', 'Äpfel, säuerlich', 'Äpfel, saure', 'Äpfel (Boskoop)']\n",
      "     2771x  Laugenecke ['Lorbeerblatt', 'Strauchtomate(n)', 'Lorbeerblatt, getrocknet', 'Lorbeerblatt, frisch', 'Lorbeerblatt, gerebelt']\n",
      "     2739x  Rotwein , Fruchtig Süß  ['Rotwein', 'Rotwein, trocken', 'Rotwein, trockener', 'Rotwein, kräftiger', 'Rotwein, kräftig']\n"
     ]
    }
   ],
   "source": [
    "for id, count in frequencies.most_common(100):\n",
    "    origs = orig_frequencies[id].most_common(5)\n",
    "    print((str(count)+ \"x\").rjust(10), \"\", ings[id][\"name\"], [o for o, count in origs])"
   ]
  },
  {
   "cell_type": "code",
   "execution_count": 9,
   "metadata": {},
   "outputs": [],
   "source": [
    "ing_freqs = []\n",
    "for id, count in frequencies.most_common():\n",
    "    if count < 5:\n",
    "        continue\n",
    "    origs = orig_frequencies[id].most_common(5)\n",
    "    common_source_names = [o for o, count in origs]\n",
    "    ing_freqs.append({**ings[id], \"most_common_matches\": common_source_names})\n",
    "\n",
    "with open(\"data/recipes/ingredients_common.json\", \"w\") as f:\n",
    "    json.dump(ing_freqs, f)"
   ]
  },
  {
   "cell_type": "code",
   "execution_count": null,
   "metadata": {},
   "outputs": [],
   "source": []
  }
 ],
 "metadata": {
  "kernelspec": {
   "display_name": "Python 3",
   "language": "python",
   "name": "python3"
  },
  "language_info": {
   "codemirror_mode": {
    "name": "ipython",
    "version": 3
   },
   "file_extension": ".py",
   "mimetype": "text/x-python",
   "name": "python",
   "nbconvert_exporter": "python",
   "pygments_lexer": "ipython3",
   "version": "3.5.2"
  }
 },
 "nbformat": 4,
 "nbformat_minor": 2
}
