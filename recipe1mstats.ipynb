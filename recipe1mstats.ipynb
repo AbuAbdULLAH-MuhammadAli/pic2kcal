{
 "cells": [
  {
   "cell_type": "code",
   "execution_count": 1,
   "metadata": {},
   "outputs": [],
   "source": [
    "import json\n",
    "import numpy as np\n",
    "from pprint import pprint\n",
    "from pathlib import Path"
   ]
  },
  {
   "cell_type": "code",
   "execution_count": 2,
   "metadata": {},
   "outputs": [],
   "source": [
    "datadir = Path('data/recipe1m/dl')\n",
    "l1 = json.load(open(datadir / 'layer1.json'))\n",
    "l2 = json.load(open(datadir / 'layer2.json'))\n",
    "l2p = json.load(open(datadir / 'layer2+.json'))"
   ]
  },
  {
   "cell_type": "code",
   "execution_count": 3,
   "metadata": {},
   "outputs": [
    {
     "data": {
      "text/plain": [
       "{'id': '00003a70b1',\n",
       " 'images': [{'id': '3e233001e2.jpg',\n",
       "   'url': 'http://img.sndimg.com/food/image/upload/w_512,h_512,c_fit,fl_progressive,q_95/v1/img/recipes/47/91/49/picaYYmb9.jpg'},\n",
       "  {'id': '7f749987f9.jpg',\n",
       "   'url': 'http://img.sndimg.com/food/image/upload/w_512,h_512,c_fit,fl_progressive,q_95/v1/img/recipes/47/91/49/picpy37SW.jpg'},\n",
       "  {'id': 'aaf6b2dcd3.jpg',\n",
       "   'url': 'http://img.sndimg.com/food/image/upload/w_512,h_512,c_fit,fl_progressive,q_95/v1/img/recipes/47/91/49/picX9CNE2.jpg'}]}"
      ]
     },
     "execution_count": 3,
     "metadata": {},
     "output_type": "execute_result"
    }
   ],
   "source": [
    "l2[0]"
   ]
  },
  {
   "cell_type": "code",
   "execution_count": 4,
   "metadata": {},
   "outputs": [],
   "source": [
    "nut = json.load(open(datadir / 'recipes_with_nutritional_info.json'))"
   ]
  },
  {
   "cell_type": "code",
   "execution_count": 5,
   "metadata": {},
   "outputs": [],
   "source": [
    "l1d = {l[\"id\"]: l for l in l1}\n",
    "l2d = {l[\"id\"]: l for l in l2}\n",
    "l2pd = {l[\"id\"]: l for l in l2p}"
   ]
  },
  {
   "cell_type": "code",
   "execution_count": 6,
   "metadata": {},
   "outputs": [],
   "source": [
    "imglist = [l2d.get(e[\"id\"], {'images': []})['images'] for e in nut]"
   ]
  },
  {
   "cell_type": "code",
   "execution_count": 7,
   "metadata": {},
   "outputs": [],
   "source": [
    "imglistp = [l2pd.get(e[\"id\"], {'images': []})['images'] for e in nut]"
   ]
  },
  {
   "cell_type": "code",
   "execution_count": 8,
   "metadata": {},
   "outputs": [
    {
     "data": {
      "text/plain": [
       "51235"
      ]
     },
     "execution_count": 8,
     "metadata": {},
     "output_type": "execute_result"
    }
   ],
   "source": [
    "len(imglist)"
   ]
  },
  {
   "cell_type": "code",
   "execution_count": 9,
   "metadata": {},
   "outputs": [
    {
     "name": "stdout",
     "output_type": "stream",
     "text": [
      "num of nut values entries\n"
     ]
    },
    {
     "data": {
      "text/plain": [
       "51235"
      ]
     },
     "execution_count": 9,
     "metadata": {},
     "output_type": "execute_result"
    }
   ],
   "source": [
    "print(\"num of nut values entries\")\n",
    "len(nut)"
   ]
  },
  {
   "cell_type": "code",
   "execution_count": 10,
   "metadata": {},
   "outputs": [
    {
     "name": "stdout",
     "output_type": "stream",
     "text": [
      "num of nut values entries with images\n"
     ]
    },
    {
     "data": {
      "text/plain": [
       "20232"
      ]
     },
     "execution_count": 10,
     "metadata": {},
     "output_type": "execute_result"
    }
   ],
   "source": [
    "print(\"num of nut values entries with images\")\n",
    "sum([int(len(i) > 0) for i in imglist])"
   ]
  },
  {
   "cell_type": "code",
   "execution_count": 11,
   "metadata": {},
   "outputs": [
    {
     "name": "stdout",
     "output_type": "stream",
     "text": [
      "num of img2nut entries\n"
     ]
    },
    {
     "data": {
      "text/plain": [
       "50718"
      ]
     },
     "execution_count": 11,
     "metadata": {},
     "output_type": "execute_result"
    }
   ],
   "source": [
    "print(\"num of img2nut entries\")\n",
    "len([e for i in imglist for e in i])"
   ]
  },
  {
   "cell_type": "code",
   "execution_count": 12,
   "metadata": {},
   "outputs": [
    {
     "name": "stdout",
     "output_type": "stream",
     "text": [
      "above three values for recipe1m+ (including google-scraped images which are only barely related to the recipes)\n",
      "51235\n",
      "50797\n",
      "718154\n"
     ]
    }
   ],
   "source": [
    "print(\"above three values for recipe1m+ (including google-scraped images which are only barely related to the recipes)\")\n",
    "print(len(nut))\n",
    "print(sum([int(len(i) > 0) for i in imglistp]))\n",
    "print(len([e for i in imglistp for e in i]))"
   ]
  },
  {
   "cell_type": "code",
   "execution_count": 32,
   "metadata": {},
   "outputs": [],
   "source": [
    "# same outlier removal as for our own dataset\n",
    "def filter_outliers(data: list, *, factor=2, key=lambda x: x):\n",
    "    l = len(data)\n",
    "    while True:\n",
    "        # https://www.kdnuggets.com/2017/02/removing-outliers-standard-deviation-python.html\n",
    "        vals = [key(e) for e in data]\n",
    "        mean = np.mean(vals)\n",
    "        stddev = np.std(vals)\n",
    "        print(\"mean\", mean)\n",
    "        print(\"std\", stddev)\n",
    "        filt_min = mean - factor * stddev\n",
    "        filt_max = mean + factor * stddev\n",
    "        data = [\n",
    "            ele for val, ele in zip(vals, data) if val >= filt_min and val <= filt_max\n",
    "        ]\n",
    "        if len(data) == l:\n",
    "            break\n",
    "        l = len(data)\n",
    "    return (data, filt_min, filt_max)"
   ]
  },
  {
   "cell_type": "code",
   "execution_count": 33,
   "metadata": {},
   "outputs": [],
   "source": [
    "datapoints = [{**l1d.get(e[\"id\"], {}), **l2d.get(e[\"id\"], {\"images\": []}), \"nut\": e} for e in nut]"
   ]
  },
  {
   "cell_type": "code",
   "execution_count": 34,
   "metadata": {},
   "outputs": [
    {
     "name": "stdout",
     "output_type": "stream",
     "text": [
      "removed no img 31003\n"
     ]
    }
   ],
   "source": [
    "_x = len(datapoints)\n",
    "datapoints = [d for d in datapoints if len(d[\"images\"]) > 0]\n",
    "print(\"removed no img\", _x - len(datapoints))"
   ]
  },
  {
   "cell_type": "code",
   "execution_count": 77,
   "metadata": {},
   "outputs": [
    {
     "name": "stdout",
     "output_type": "stream",
     "text": [
      "{'fsa_lights_per100g': {'fat': 'green',\n",
      "                        'salt': 'green',\n",
      "                        'saturates': 'green',\n",
      "                        'sugars': 'orange'},\n",
      " 'id': '000095fc1d',\n",
      " 'ingredients': [{'text': 'yogurt, greek, plain, nonfat'},\n",
      "                 {'text': 'strawberries, raw'},\n",
      "                 {'text': 'cereals ready-to-eat, granola, homemade'}],\n",
      " 'instructions': [{'text': 'Layer all ingredients in a serving dish.'}],\n",
      " 'nutr_per_ingredient': [{'fat': 0.8845044000000001,\n",
      "                          'nrg': 133.80964,\n",
      "                          'pro': 23.110512399999998,\n",
      "                          'sat': 0.26535132,\n",
      "                          'sod': 81.64656,\n",
      "                          'sug': 7.348190400000001},\n",
      "                         {'fat': 0.46,\n",
      "                          'nrg': 49.0,\n",
      "                          'pro': 1.02,\n",
      "                          'sat': 0.023,\n",
      "                          'sod': 2.0,\n",
      "                          'sug': 7.43},\n",
      "                         {'fat': 7.415,\n",
      "                          'nrg': 149.25,\n",
      "                          'pro': 4.17,\n",
      "                          'sat': 1.207,\n",
      "                          'sod': 8.0,\n",
      "                          'sug': 6.04}],\n",
      " 'nutr_values_per100g': {'energy': 81.12946131894766,\n",
      "                         'fat': 2.140139263515891,\n",
      "                         'protein': 6.914436593565536,\n",
      "                         'salt': 0.05597816738985967,\n",
      "                         'saturates': 0.36534716195613937,\n",
      "                         'sugars': 5.08634103436144},\n",
      " 'partition': 'train',\n",
      " 'quantity': [{'text': '8'}, {'text': '1'}, {'text': '1/4'}],\n",
      " 'title': 'Yogurt Parfaits',\n",
      " 'unit': [{'text': 'ounce'}, {'text': 'cup'}, {'text': 'cup'}],\n",
      " 'url': 'http://tastykitchen.com/recipes/breakfastbrunch/yogurt-parfaits/',\n",
      " 'weight_per_ingr': [226.796, 152.0, 30.5]}\n"
     ]
    }
   ],
   "source": [
    "pprint(nut[0])"
   ]
  },
  {
   "cell_type": "code",
   "execution_count": 43,
   "metadata": {},
   "outputs": [
    {
     "ename": "AttributeError",
     "evalue": "'list' object has no attribute 'contains'",
     "output_type": "error",
     "traceback": [
      "\u001b[0;31m-----------------------------------------\u001b[0m",
      "\u001b[0;31mAttributeError\u001b[0mTraceback (most recent call last)",
      "\u001b[0;32m<ipython-input-43-b70a5f553269>\u001b[0m in \u001b[0;36m<module>\u001b[0;34m\u001b[0m\n\u001b[0;32m----> 1\u001b[0;31m \u001b[0;34m[\u001b[0m\u001b[0;34m]\u001b[0m\u001b[0;34m.\u001b[0m\u001b[0mcontains\u001b[0m\u001b[0;34m\u001b[0m\u001b[0;34m\u001b[0m\u001b[0m\n\u001b[0m",
      "\u001b[0;31mAttributeError\u001b[0m: 'list' object has no attribute 'contains'"
     ]
    }
   ],
   "source": []
  },
  {
   "cell_type": "code",
   "execution_count": 54,
   "metadata": {},
   "outputs": [],
   "source": [
    "def print_filt(key):\n",
    "    bef_count = len(datapoints)\n",
    "    data, filt_min, filt_max = filter_outliers(datapoints, key=key)\n",
    "    dpid = {d[\"id\"] for d in data}\n",
    "    outliers = [d for d in datapoints if d[\"id\"] not in dpid]\n",
    "    print(f\"filtering kcal to [{filt_min}, {filt_max}]\")\n",
    "    print(f\"outliers: removed {bef_count - len(data)} of {bef_count}\")\n",
    "    print(len(outliers))\n",
    "    print(\"final recipe count\", len(data))\n",
    "    print(\"final data point count\", len([i for d in data for i in d[\"images\"]]))\n",
    "    return outliers"
   ]
  },
  {
   "cell_type": "code",
   "execution_count": 55,
   "metadata": {},
   "outputs": [
    {
     "name": "stdout",
     "output_type": "stream",
     "text": [
      "mean 269.19589095942564\n",
      "std 177.30687200065913\n",
      "mean 251.55525678200382\n",
      "std 155.73749902287216\n",
      "mean 241.77283498681555\n",
      "std 146.719412003905\n",
      "mean 235.91349387040356\n",
      "std 141.7999674173209\n",
      "mean 232.18052320346095\n",
      "std 138.7943937451992\n",
      "mean 229.83656599102235\n",
      "std 136.95581040247546\n",
      "mean 227.81166199772446\n",
      "std 135.3860411413802\n",
      "mean 226.31902873462093\n",
      "std 134.2354668401879\n",
      "mean 224.85019269291834\n",
      "std 133.10837353234487\n",
      "mean 223.5674525290661\n",
      "std 132.1250218904773\n",
      "mean 222.63648815771037\n",
      "std 131.41455746572493\n",
      "mean 221.85885164928314\n",
      "std 130.8233945230421\n",
      "mean 221.39692874484513\n",
      "std 130.47360705603103\n",
      "mean 221.07006774711851\n",
      "std 130.22697062618707\n",
      "mean 220.78823265711821\n",
      "std 130.0146663986508\n",
      "mean 220.55109277283543\n",
      "std 129.83612395000856\n",
      "mean 220.37332448113932\n",
      "std 129.70230043580102\n",
      "mean 220.24012901902978\n",
      "std 129.6021441691265\n",
      "mean 220.12180627673183\n",
      "std 129.5132267751068\n",
      "mean 219.97393595164425\n",
      "std 129.40209840257504\n",
      "mean 219.82608495034404\n",
      "std 129.2909554099438\n",
      "mean 219.64869430810413\n",
      "std 129.1575745202535\n",
      "mean 219.57483203418158\n",
      "std 129.10207756214504\n",
      "mean 219.5600755594512\n",
      "std 129.0910085567888\n",
      "mean 219.53055984548737\n",
      "std 129.06886343255755\n",
      "mean 219.5010436466688\n",
      "std 129.04671522475678\n",
      "mean 219.4567687949581\n",
      "std 129.01348783983047\n",
      "mean 219.42725308142738\n",
      "std 128.99133531253506\n",
      "mean 219.41249963466362\n",
      "std 128.9802670784578\n",
      "filtering kcal to [-38.54803452225201, 477.37303379157925]\n",
      "outliers: removed 2744 of 20232\n",
      "2744\n",
      "final recipe count 17488\n",
      "final data point count 43942\n"
     ]
    }
   ],
   "source": [
    "outliers = print_filt(key=lambda r: r[\"nut\"][\"nutr_values_per100g\"][\"energy\"])"
   ]
  },
  {
   "cell_type": "code",
   "execution_count": 76,
   "metadata": {},
   "outputs": [
    {
     "name": "stdout",
     "output_type": "stream",
     "text": [
      "{'id': '0c919abb95',\n",
      " 'images': [{'id': '795a547950.jpg',\n",
      "             'url': 'http://assets.epicurious.com/photos/5761ccd8e047a6cf1ee8266d/master/pass/butter-pie-crust.jpg'}],\n",
      " 'ingredients': [{'text': '2 1/2 cups all purpose flour'},\n",
      "                 {'text': '1 tablespoon sugar'},\n",
      "                 {'text': '3/4 teaspoon salt'},\n",
      "                 {'text': '1 cup (2 sticks) chilled unsalted butter, cut into '\n",
      "                          '1/2-inch cubes'},\n",
      "                 {'text': '6 tablespoons (about) ice water'}],\n",
      " 'instructions': [{'text': 'Mix flour, sugar, and salt in processor.'},\n",
      "                  {'text': 'Add butter; pulse until coarse meal forms.'},\n",
      "                  {'text': 'Gradually blend in enough ice water to form moist '\n",
      "                           'clumps.'},\n",
      "                  {'text': 'Gather dough into ball; divide in half.'},\n",
      "                  {'text': 'Form dough into 2 balls; flatten into disks.'},\n",
      "                  {'text': 'Wrap each in plastic; chill 2 hours or '\n",
      "                           'overnight.'}],\n",
      " 'nut': {'fsa_lights_per100g': {'fat': 'red',\n",
      "                                'salt': 'orange',\n",
      "                                'saturates': 'red',\n",
      "                                'sugars': 'green'},\n",
      "         'id': '0c919abb95',\n",
      "         'ingredients': [{'text': 'wheat flour, white, all-purpose, '\n",
      "                                  'unenriched'},\n",
      "                         {'text': 'sugars, granulated'},\n",
      "                         {'text': 'salt, table'},\n",
      "                         {'text': 'butter, without salt'},\n",
      "                         {'text': 'water, bottled, generic'}],\n",
      "         'instructions': [{'text': 'Mix flour, sugar, and salt in processor.'},\n",
      "                          {'text': 'Add butter; pulse until coarse meal '\n",
      "                                   'forms.'},\n",
      "                          {'text': 'Gradually blend in enough ice water to '\n",
      "                                   'form moist clumps.'},\n",
      "                          {'text': 'Gather dough into ball; divide in half.'},\n",
      "                          {'text': 'Form dough into 2 balls; flatten into '\n",
      "                                   'disks.'},\n",
      "                          {'text': 'Wrap each in plastic; chill 2 hours or '\n",
      "                                   'overnight.'}],\n",
      "         'nutr_per_ingredient': [{'fat': 3.075,\n",
      "                                  'nrg': 1137.5,\n",
      "                                  'pro': 32.275,\n",
      "                                  'sat': 0.485,\n",
      "                                  'sod': 5.0,\n",
      "                                  'sug': 0.8500000000000001},\n",
      "                                 {'fat': 0.0,\n",
      "                                  'nrg': 48.0,\n",
      "                                  'pro': 0.0,\n",
      "                                  'sat': 0.0,\n",
      "                                  'sod': 0.0,\n",
      "                                  'sug': 12.570000000000002},\n",
      "                                 {'fat': 0.0,\n",
      "                                  'nrg': 0.0,\n",
      "                                  'pro': 0.0,\n",
      "                                  'sat': 0.0,\n",
      "                                  'sod': 1743.75,\n",
      "                                  'sug': 0.0},\n",
      "                                 {'fat': 184.32,\n",
      "                                  'nrg': 1632.0,\n",
      "                                  'pro': 1.92,\n",
      "                                  'sat': 114.704,\n",
      "                                  'sod': 32.0,\n",
      "                                  'sug': 0.16},\n",
      "                                 {'fat': 0.0,\n",
      "                                  'nrg': 0.0,\n",
      "                                  'pro': 0.0,\n",
      "                                  'sat': 0.0,\n",
      "                                  'sod': 2.750650130026005,\n",
      "                                  'sug': 0.0}],\n",
      "         'nutr_values_per100g': {'energy': 441.4627147575677,\n",
      "                                 'fat': 29.36216696787734,\n",
      "                                 'protein': 5.35787667475955,\n",
      "                                 'salt': 0.6986238143551805,\n",
      "                                 'saturates': 18.048499964581886,\n",
      "                                 'sugars': 2.127795445042687},\n",
      "         'partition': 'train',\n",
      "         'quantity': [{'text': '2 1/2'},\n",
      "                      {'text': '1'},\n",
      "                      {'text': '3/4'},\n",
      "                      {'text': '1'},\n",
      "                      {'text': '6'}],\n",
      "         'title': 'Butter Pie Crust',\n",
      "         'unit': [{'text': 'cup'},\n",
      "                  {'text': 'tablespoon'},\n",
      "                  {'text': 'teaspoon'},\n",
      "                  {'text': 'cup'},\n",
      "                  {'text': 'tablespoon'}],\n",
      "         'url': 'http://www.epicurious.com/recipes/food/views/butter-pie-crust-236477',\n",
      "         'weight_per_ingr': [312.5,\n",
      "                             12.600000000000001,\n",
      "                             4.5,\n",
      "                             227.2,\n",
      "                             81.41924384876977]},\n",
      " 'partition': 'train',\n",
      " 'title': 'Butter Pie Crust',\n",
      " 'url': 'http://www.epicurious.com/recipes/food/views/butter-pie-crust-236477'}\n"
     ]
    }
   ],
   "source": [
    "pprint(outliers[500])"
   ]
  },
  {
   "cell_type": "code",
   "execution_count": 68,
   "metadata": {},
   "outputs": [
    {
     "data": {
      "text/plain": [
       "{'text': 'oil, corn, peanut, and olive'}"
      ]
     },
     "execution_count": 68,
     "metadata": {},
     "output_type": "execute_result"
    }
   ],
   "source": [
    "outliers[500][\"nut\"][\"ingredients\"][0] # should be peanuts but its oil which is why total value is off"
   ]
  },
  {
   "cell_type": "code",
   "execution_count": 78,
   "metadata": {},
   "outputs": [
    {
     "name": "stdout",
     "output_type": "stream",
     "text": [
      "mean 8742.221610160565\n",
      "std 15556.196298540619\n",
      "mean 5990.53998506509\n",
      "std 8638.525940342517\n",
      "mean 3932.466301739208\n",
      "std 5037.199288898606\n",
      "mean 2812.9915009685824\n",
      "std 3015.2564330429846\n",
      "mean 2169.1439374383604\n",
      "std 1949.3421577828385\n",
      "mean 1819.866176220569\n",
      "std 1439.8980414077653\n",
      "mean 1607.972730501549\n",
      "std 1184.1423682400741\n",
      "mean 1464.601044287561\n",
      "std 1031.619998929448\n",
      "mean 1359.6353096375165\n",
      "std 927.9216675511376\n",
      "mean 1284.2340756783462\n",
      "std 857.7856183368228\n",
      "mean 1227.7752150950091\n",
      "std 807.7314984513365\n",
      "mean 1192.4672512590473\n",
      "std 777.7940342015638\n",
      "mean 1162.081501527264\n",
      "std 752.9013549257305\n",
      "mean 1136.6809863218575\n",
      "std 732.2915517725538\n",
      "mean 1116.1891094619896\n",
      "std 715.8286806931293\n",
      "mean 1101.161787242923\n",
      "std 703.9494072942849\n",
      "mean 1088.3597057644272\n",
      "std 693.931771629177\n",
      "mean 1077.4288201282704\n",
      "std 685.4363812927522\n",
      "mean 1071.4084092449675\n",
      "std 680.7964185951528\n",
      "mean 1064.50230372048\n",
      "std 675.5151676392361\n",
      "mean 1058.5345814850248\n",
      "std 670.9430100151998\n",
      "mean 1054.446428145438\n",
      "std 667.8292629807032\n",
      "mean 1050.7661331748156\n",
      "std 665.0343968000581\n",
      "mean 1047.8798651486993\n",
      "std 662.8445944688676\n",
      "mean 1046.4426957396502\n",
      "std 661.7601528332274\n",
      "mean 1045.2688483713619\n",
      "std 660.8761918910939\n",
      "mean 1044.3567548143335\n",
      "std 660.1900108282017\n",
      "mean 1043.9660904183008\n",
      "std 659.8962776758582\n",
      "mean 1043.8360378163716\n",
      "std 659.7986884652046\n",
      "filtering kcal to [-275.7613391140376, 2363.4334147467807]\n",
      "outliers: removed 10082 of 20232\n",
      "10082\n",
      "final recipe count 10150\n",
      "final data point count 24118\n"
     ]
    }
   ],
   "source": [
    "# filter by per recipe (incomplete)\n",
    "outliers = print_filt(key=lambda r: r[\"nut\"][\"nutr_values_per100g\"][\"energy\"] / 100 * sum(r[\"nut\"][\"weight_per_ingr\"]))"
   ]
  },
  {
   "cell_type": "code",
   "execution_count": 75,
   "metadata": {},
   "outputs": [
    {
     "name": "stdout",
     "output_type": "stream",
     "text": [
      "6014.349999999999\n",
      "{'id': '028bbd74ea',\n",
      " 'images': [{'id': 'b681d47161.jpg',\n",
      "             'url': 'http://www.lovefood.com/images/content/body/oatygingercrunch.jpg'}],\n",
      " 'ingredients': [{'text': '150 g (5.3oz) plain flour'},\n",
      "                 {'text': '1.5 tsp baking powder'},\n",
      "                 {'text': '1.5 tsp ground ginger'},\n",
      "                 {'text': '75 g (2.6oz) desiccated coconut'},\n",
      "                 {'text': '165 g (5.8oz) rolled oats'},\n",
      "                 {'text': '150 g (5.3oz) light brown sugar'},\n",
      "                 {'text': '150 g (5.3oz) butter'},\n",
      "                 {'text': '70 g (2.5oz) golden syrup'},\n",
      "                 {'text': '290 g (10.2oz) icing sugar'},\n",
      "                 {'text': '1 tbsp ground ginger'},\n",
      "                 {'text': '120 g (4.2oz) butter'},\n",
      "                 {'text': '115 g (4.1oz) golden syrup'}],\n",
      " 'instructions': [{'text': 'Preheat the oven to 180C.'},\n",
      "                  {'text': 'Lightly grease and line the base and sides of an '\n",
      "                           '11 x 34 x 2.5cm rectangular loose-based baking tin '\n",
      "                           'with baking paper, cutting into the corners to fit '\n",
      "                           'and allowing the paper to extend about 2.5cm above '\n",
      "                           'the sides.'},\n",
      "                  {'text': 'For the base: Sift the flour, baking powder and '\n",
      "                           'ginger into a medium bowl, then add the coconut, '\n",
      "                           'rolled oats and brown sugar.'},\n",
      "                  {'text': 'In a small saucepan, melt the butter and golden '\n",
      "                           'syrup over low heat.'},\n",
      "                  {'text': 'Pour into the dry ingredients and mix until '\n",
      "                           'combined.'},\n",
      "                  {'text': 'Press the base mixture into the prepared tin.'},\n",
      "                  {'text': 'Bake for 2530 minutes or until golden brown.'},\n",
      "                  {'text': 'Sift the icing sugar and ginger into a small '\n",
      "                           'bowl.'},\n",
      "                  {'text': 'Melt the butter and golden syrup in a small '\n",
      "                           'saucepan over low heat.'},\n",
      "                  {'text': 'Mix into the sugar mixture until smooth and spread '\n",
      "                           'evenly over the cooked base with a large spatula.'},\n",
      "                  {'text': 'Leave to set in the tin before cutting (we leave '\n",
      "                           'it overnight).'},\n",
      "                  {'text': 'Cut into eight 4.25 x 11cm pieces.'}],\n",
      " 'nut': {'fsa_lights_per100g': {'fat': 'red',\n",
      "                                'salt': 'green',\n",
      "                                'saturates': 'red',\n",
      "                                'sugars': 'red'},\n",
      "         'id': '028bbd74ea',\n",
      "         'ingredients': [{'text': 'wheat flour, white, all-purpose, '\n",
      "                                  'unenriched'},\n",
      "                         {'text': 'leavening agents, baking powder, '\n",
      "                                  'double-acting, sodium aluminum sulfate'},\n",
      "                         {'text': 'spices, ginger, ground'},\n",
      "                         {'text': 'shortening confectionery, coconut '\n",
      "                                  '(hydrogenated) and or palm kernel '\n",
      "                                  '(hydrogenated)'},\n",
      "                         {'text': 'oats'},\n",
      "                         {'text': 'sugars, brown'},\n",
      "                         {'text': 'butter, without salt'},\n",
      "                         {'text': 'syrup, maple, canadian'},\n",
      "                         {'text': 'sugars, powdered'},\n",
      "                         {'text': 'spices, ginger, ground'},\n",
      "                         {'text': 'butter, without salt'},\n",
      "                         {'text': 'syrup, maple, canadian'}],\n",
      "         'instructions': [{'text': 'Preheat the oven to 180C.'},\n",
      "                          {'text': 'Lightly grease and line the base and sides '\n",
      "                                   'of an 11 x 34 x 2.5cm rectangular '\n",
      "                                   'loose-based baking tin with baking paper, '\n",
      "                                   'cutting into the corners to fit and '\n",
      "                                   'allowing the paper to extend about 2.5cm '\n",
      "                                   'above the sides.'},\n",
      "                          {'text': 'For the base: Sift the flour, baking '\n",
      "                                   'powder and ginger into a medium bowl, then '\n",
      "                                   'add the coconut, rolled oats and brown '\n",
      "                                   'sugar.'},\n",
      "                          {'text': 'In a small saucepan, melt the butter and '\n",
      "                                   'golden syrup over low heat.'},\n",
      "                          {'text': 'Pour into the dry ingredients and mix '\n",
      "                                   'until combined.'},\n",
      "                          {'text': 'Press the base mixture into the prepared '\n",
      "                                   'tin.'},\n",
      "                          {'text': 'Bake for 2530 minutes or until golden '\n",
      "                                   'brown.'},\n",
      "                          {'text': 'Sift the icing sugar and ginger into a '\n",
      "                                   'small bowl.'},\n",
      "                          {'text': 'Melt the butter and golden syrup in a '\n",
      "                                   'small saucepan over low heat.'},\n",
      "                          {'text': 'Mix into the sugar mixture until smooth '\n",
      "                                   'and spread evenly over the cooked base '\n",
      "                                   'with a large spatula.'},\n",
      "                          {'text': 'Leave to set in the tin before cutting (we '\n",
      "                                   'leave it overnight).'},\n",
      "                          {'text': 'Cut into eight 4.25 x 11cm pieces.'}],\n",
      "         'nutr_per_ingredient': [{'fat': 1.47,\n",
      "                                  'nrg': 546.0,\n",
      "                                  'pro': 15.495000000000001,\n",
      "                                  'sat': 0.23249999999999998,\n",
      "                                  'sod': 3.0,\n",
      "                                  'sug': 0.405},\n",
      "                                 {'fat': 0.0,\n",
      "                                  'nrg': 3.0,\n",
      "                                  'pro': 0.0,\n",
      "                                  'sat': 0.0,\n",
      "                                  'sod': 732.0,\n",
      "                                  'sug': 0.0},\n",
      "                                 {'fat': 0.12000000000000001,\n",
      "                                  'nrg': 9.0,\n",
      "                                  'pro': 0.24000000000000002,\n",
      "                                  'sat': 0.07050000000000001,\n",
      "                                  'sod': 0.0,\n",
      "                                  'sug': 0.09},\n",
      "                                 {'fat': 75.0,\n",
      "                                  'nrg': 663.0,\n",
      "                                  'pro': 0.0,\n",
      "                                  'sat': 68.475,\n",
      "                                  'sod': 0.0,\n",
      "                                  'sug': 0.0},\n",
      "                                 {'fat': 11.385000000000002,\n",
      "                                  'nrg': 641.85,\n",
      "                                  'pro': 27.868499999999997,\n",
      "                                  'sat': 2.00805,\n",
      "                                  'sod': 3.3000000000000003,\n",
      "                                  'sug': 0.0},\n",
      "                                 {'fat': 0.0,\n",
      "                                  'nrg': 570.0,\n",
      "                                  'pro': 0.18,\n",
      "                                  'sat': 0.0,\n",
      "                                  'sod': 42.00000000000001,\n",
      "                                  'sug': 145.53},\n",
      "                                 {'fat': 121.665,\n",
      "                                  'nrg': 1075.5,\n",
      "                                  'pro': 1.2750000000000001,\n",
      "                                  'sat': 75.73349999999999,\n",
      "                                  'sod': 16.5,\n",
      "                                  'sug': 0.09},\n",
      "                                 {'fat': 0.0,\n",
      "                                  'nrg': 189.0,\n",
      "                                  'pro': 0.0,\n",
      "                                  'sat': 0.0,\n",
      "                                  'sod': 6.3,\n",
      "                                  'sug': 41.944},\n",
      "                                 {'fat': 0.0,\n",
      "                                  'nrg': 1128.1000000000001,\n",
      "                                  'pro': 0.0,\n",
      "                                  'sat': 0.0,\n",
      "                                  'sod': 5.8,\n",
      "                                  'sug': 283.649},\n",
      "                                 {'fat': 0.24000000000000002,\n",
      "                                  'nrg': 18.0,\n",
      "                                  'pro': 0.48000000000000004,\n",
      "                                  'sat': 0.14100000000000001,\n",
      "                                  'sod': 0.0,\n",
      "                                  'sug': 0.18},\n",
      "                                 {'fat': 97.33200000000001,\n",
      "                                  'nrg': 860.4,\n",
      "                                  'pro': 1.02,\n",
      "                                  'sat': 60.5868,\n",
      "                                  'sod': 13.2,\n",
      "                                  'sug': 0.072},\n",
      "                                 {'fat': 0.0,\n",
      "                                  'nrg': 310.5,\n",
      "                                  'pro': 0.0,\n",
      "                                  'sat': 0.0,\n",
      "                                  'sod': 10.35,\n",
      "                                  'sug': 68.908}],\n",
      "         'nutr_values_per100g': {'energy': 462.64230769230767,\n",
      "                                 'fat': 23.63169230769231,\n",
      "                                 'protein': 3.5814230769230764,\n",
      "                                 'salt': 0.16008653846153845,\n",
      "                                 'saturates': 15.942103846153847,\n",
      "                                 'sugars': 41.60523076923077},\n",
      "         'partition': 'train',\n",
      "         'quantity': [{'text': '150'},\n",
      "                      {'text': '1.5'},\n",
      "                      {'text': '1.5'},\n",
      "                      {'text': '75'},\n",
      "                      {'text': '165'},\n",
      "                      {'text': '150'},\n",
      "                      {'text': '150'},\n",
      "                      {'text': '70'},\n",
      "                      {'text': '290'},\n",
      "                      {'text': '1'},\n",
      "                      {'text': '120'},\n",
      "                      {'text': '115'}],\n",
      "         'title': 'Oaty ginger crunch recipe',\n",
      "         'unit': [{'text': 'g'},\n",
      "                  {'text': 'teaspoon'},\n",
      "                  {'text': 'teaspoon'},\n",
      "                  {'text': 'g'},\n",
      "                  {'text': 'g'},\n",
      "                  {'text': 'g'},\n",
      "                  {'text': 'g'},\n",
      "                  {'text': 'g'},\n",
      "                  {'text': 'g'},\n",
      "                  {'text': 'tablespoon'},\n",
      "                  {'text': 'g'},\n",
      "                  {'text': 'g'}],\n",
      "         'url': 'http://www.lovefood.com/guide/recipes/47694/oaty-ginger-crunch-recipe',\n",
      "         'weight_per_ingr': [150.0,\n",
      "                             6.8999999999999995,\n",
      "                             2.7,\n",
      "                             75.0,\n",
      "                             165.0,\n",
      "                             150.0,\n",
      "                             150.0,\n",
      "                             70.0,\n",
      "                             290.0,\n",
      "                             5.4,\n",
      "                             120.0,\n",
      "                             115.0]},\n",
      " 'partition': 'train',\n",
      " 'title': 'Oaty ginger crunch recipe',\n",
      " 'url': 'http://www.lovefood.com/guide/recipes/47694/oaty-ginger-crunch-recipe'}\n"
     ]
    }
   ],
   "source": [
    "r = outliers[100]\n",
    "print(r[\"nut\"][\"nutr_values_per100g\"][\"energy\"] / 100 * sum(r[\"nut\"][\"weight_per_ingr\"]))\n",
    "pprint(r)"
   ]
  },
  {
   "cell_type": "code",
   "execution_count": null,
   "metadata": {},
   "outputs": [],
   "source": []
  }
 ],
 "metadata": {
  "kernelspec": {
   "display_name": "Python 3",
   "language": "python",
   "name": "python3"
  },
  "language_info": {
   "codemirror_mode": {
    "name": "ipython",
    "version": 3
   },
   "file_extension": ".py",
   "mimetype": "text/x-python",
   "name": "python",
   "nbconvert_exporter": "python",
   "pygments_lexer": "ipython3",
   "version": "3.8.2"
  }
 },
 "nbformat": 4,
 "nbformat_minor": 4
}
